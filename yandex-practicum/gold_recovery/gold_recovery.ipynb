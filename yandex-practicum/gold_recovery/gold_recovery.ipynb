{
  "cells": [
    {
      "cell_type": "markdown",
      "metadata": {
        "id": "YnTD3Ve6p2Mc"
      },
      "source": [
        "# Восстановление золота из руды"
      ]
    },
    {
      "cell_type": "markdown",
      "metadata": {
        "id": "mCIakOAFp2Md"
      },
      "source": [
        "Подготовка прототипа модели машинного обучения для «Цифры». Компания разрабатывает решения для эффективной работы промышленных предприятий.\n",
        "\n",
        "Модель должна предсказать коэффициент восстановления золота из золотосодержащей руды. Используются данные с параметрами добычи и очистки.\n",
        "\n",
        "Модель поможет оптимизировать производство, чтобы не запускать предприятие с убыточными характеристиками."
      ]
    },
    {
      "cell_type": "markdown",
      "metadata": {
        "id": "GTxZ8w3iRdek"
      },
      "source": [
        "## Импорт и настройки"
      ]
    },
    {
      "cell_type": "code",
      "execution_count": 1,
      "metadata": {
        "id": "gHqOISNuwbrq"
      },
      "outputs": [],
      "source": [
        "import pandas as pd\n",
        "import numpy as np\n",
        "import matplotlib.pyplot as plt\n",
        "from scipy import stats as st\n",
        "\n",
        "from sklearn.metrics import make_scorer\n",
        "from sklearn.metrics import mean_absolute_error as mae\n",
        "from sklearn.linear_model import Ridge, ElasticNet\n",
        "from sklearn.svm import SVR\n",
        "from sklearn.dummy import DummyRegressor\n",
        "from sklearn.preprocessing import MinMaxScaler\n",
        "from IPython.display import display\n",
        "from sklearn.pipeline import make_pipeline\n",
        "from sklearn.model_selection import GridSearchCV\n",
        "\n",
        "pd.set_option('mode.chained_assignment', None)\n",
        "pd.set_option('display.max_rows', 100)\n",
        "pd.set_option('display.max_columns', 200)\n",
        "\n",
        "\n",
        "RANDOM_STATE = 12345\n",
        "TEST_RATIO = .25"
      ]
    },
    {
      "cell_type": "markdown",
      "metadata": {
        "id": "t_0Lekytp2Md"
      },
      "source": [
        "## Подготовка данных"
      ]
    },
    {
      "cell_type": "markdown",
      "metadata": {
        "id": "o-jyuTSFRoTk"
      },
      "source": [
        "### Загрузка и обзор данных"
      ]
    },
    {
      "cell_type": "code",
      "execution_count": 2,
      "metadata": {
        "id": "ViqhJptKw0S0",
        "colab": {
          "base_uri": "https://localhost:8080/"
        },
        "outputId": "39f263c6-413a-495a-edc5-df2ed0673eb8"
      },
      "outputs": [
        {
          "output_type": "stream",
          "name": "stdout",
          "text": [
            "Загружен датасет train\n",
            "Загружен датасет test\n",
            "Загружен датасет full\n"
          ]
        }
      ],
      "source": [
        "links = ['/datasets/gold_recovery_train_new.csv',\n",
        "         '/datasets/gold_recovery_test_new.csv',\n",
        "         '/datasets/gold_recovery_full_new.csv']\n",
        "dfs = {}\n",
        "\n",
        "for link in links:\n",
        "    name = link.split('gold_recovery_')[1].split('_new')[0]\n",
        "    try:\n",
        "        dfs[name] = pd.read_csv(link)\n",
        "        print('Загружен датасет', name)\n",
        "    except:\n",
        "        print('Data source unreachable')"
      ]
    },
    {
      "cell_type": "code",
      "execution_count": 3,
      "metadata": {
        "colab": {
          "base_uri": "https://localhost:8080/",
          "height": 1000
        },
        "outputId": "8f8ac55c-4d77-4beb-a93c-19aeaa2a246c",
        "id": "My4ezEUzLVud"
      },
      "outputs": [
        {
          "output_type": "stream",
          "name": "stdout",
          "text": [
            "\n",
            "Датасет train\n",
            "\n",
            "<class 'pandas.core.frame.DataFrame'>\n",
            "RangeIndex: 14149 entries, 0 to 14148\n",
            "Columns: 87 entries, date to secondary_cleaner.state.floatbank6_a_level\n",
            "dtypes: float64(86), object(1)\n",
            "memory usage: 9.4+ MB\n",
            "\n",
            "Пропуски\n",
            "\n",
            "secondary_cleaner.output.tail_sol           1605\n",
            "rougher.state.floatbank10_e_air              436\n",
            "rougher.input.floatbank11_xanthate           428\n",
            "primary_cleaner.output.concentrate_sol       286\n",
            "secondary_cleaner.state.floatbank2_a_air     217\n",
            "dtype: int64\n"
          ]
        },
        {
          "output_type": "display_data",
          "data": {
            "text/plain": [
              "                  date  final.output.concentrate_ag  \\\n",
              "0  2016-01-15 00:00:00                     6.055403   \n",
              "1  2016-01-15 01:00:00                     6.029369   \n",
              "2  2016-01-15 02:00:00                     6.055926   \n",
              "\n",
              "   final.output.concentrate_pb  final.output.concentrate_sol  \\\n",
              "0                     9.889648                      5.507324   \n",
              "1                     9.968944                      5.257781   \n",
              "2                    10.213995                      5.383759   \n",
              "\n",
              "   final.output.concentrate_au  final.output.recovery  final.output.tail_ag  \\\n",
              "0                    42.192020              70.541216             10.411962   \n",
              "1                    42.701629              69.266198             10.462676   \n",
              "2                    42.657501              68.116445             10.507046   \n",
              "\n",
              "   final.output.tail_pb  final.output.tail_sol  final.output.tail_au  \\\n",
              "0              0.895447              16.904297              2.143149   \n",
              "1              0.927452              16.634514              2.224930   \n",
              "2              0.953716              16.208849              2.257889   \n",
              "\n",
              "   primary_cleaner.input.sulfate  primary_cleaner.input.depressant  \\\n",
              "0                     127.092003                         10.128295   \n",
              "1                     125.629232                         10.296251   \n",
              "2                     123.819808                         11.316280   \n",
              "\n",
              "   primary_cleaner.input.feed_size  primary_cleaner.input.xanthate  \\\n",
              "0                             7.25                        0.988759   \n",
              "1                             7.25                        1.002663   \n",
              "2                             7.25                        0.991265   \n",
              "\n",
              "   primary_cleaner.output.concentrate_ag  \\\n",
              "0                               8.547551   \n",
              "1                               8.558743   \n",
              "2                               8.603505   \n",
              "\n",
              "   primary_cleaner.output.concentrate_pb  \\\n",
              "0                              10.389648   \n",
              "1                              10.497069   \n",
              "2                              10.354494   \n",
              "\n",
              "   primary_cleaner.output.concentrate_sol  \\\n",
              "0                               19.529297   \n",
              "1                               19.369147   \n",
              "2                               19.167579   \n",
              "\n",
              "   primary_cleaner.output.concentrate_au  primary_cleaner.output.tail_ag  \\\n",
              "0                              34.174427                       14.936526   \n",
              "1                              34.118526                       16.250511   \n",
              "2                              33.969464                       16.491823   \n",
              "\n",
              "   primary_cleaner.output.tail_pb  primary_cleaner.output.tail_sol  \\\n",
              "0                        2.534912                         7.476074   \n",
              "1                        3.049646                         6.733907   \n",
              "2                        3.124664                         6.471768   \n",
              "\n",
              "   primary_cleaner.output.tail_au  primary_cleaner.state.floatbank8_a_air  \\\n",
              "0                        2.106679                             1549.775757   \n",
              "1                        2.353017                             1576.166671   \n",
              "2                        2.416800                             1601.556163   \n",
              "\n",
              "   primary_cleaner.state.floatbank8_a_level  \\\n",
              "0                               -498.912140   \n",
              "1                               -500.904965   \n",
              "2                               -499.997791   \n",
              "\n",
              "   primary_cleaner.state.floatbank8_b_air  \\\n",
              "0                             1551.434204   \n",
              "1                             1575.950626   \n",
              "2                             1600.386685   \n",
              "\n",
              "   primary_cleaner.state.floatbank8_b_level  \\\n",
              "0                               -516.403442   \n",
              "1                               -499.865889   \n",
              "2                               -500.607762   \n",
              "\n",
              "   primary_cleaner.state.floatbank8_c_air  \\\n",
              "0                             1549.873901   \n",
              "1                             1575.994189   \n",
              "2                             1602.003542   \n",
              "\n",
              "   primary_cleaner.state.floatbank8_c_level  \\\n",
              "0                               -498.666595   \n",
              "1                               -499.315107   \n",
              "2                               -500.870069   \n",
              "\n",
              "   primary_cleaner.state.floatbank8_d_air  \\\n",
              "0                             1554.367432   \n",
              "1                             1574.479259   \n",
              "2                             1599.541515   \n",
              "\n",
              "   primary_cleaner.state.floatbank8_d_level  \\\n",
              "0                               -493.428131   \n",
              "1                               -498.931665   \n",
              "2                               -499.827444   \n",
              "\n",
              "   rougher.calculation.sulfate_to_au_concentrate  \\\n",
              "0                                   41885.707031   \n",
              "1                                   42050.861809   \n",
              "2                                   42018.101184   \n",
              "\n",
              "   rougher.calculation.floatbank10_sulfate_to_au_feed  \\\n",
              "0                                        3481.779053    \n",
              "1                                        3498.370979    \n",
              "2                                        3495.348910    \n",
              "\n",
              "   rougher.calculation.floatbank11_sulfate_to_au_feed  \\\n",
              "0                                        3520.337158    \n",
              "1                                        3489.981857    \n",
              "2                                        3502.359819    \n",
              "\n",
              "   rougher.calculation.au_pb_ratio  rougher.input.feed_ag  \\\n",
              "0                         2.838687               6.100378   \n",
              "1                         2.858998               6.161113   \n",
              "2                         2.945989               6.116455   \n",
              "\n",
              "   rougher.input.feed_pb  rougher.input.feed_rate  rougher.input.feed_size  \\\n",
              "0               2.284912               523.546326                55.486599   \n",
              "1               2.266033               525.290581                57.278666   \n",
              "2               2.159622               530.026610                57.510649   \n",
              "\n",
              "   rougher.input.feed_sol  rougher.input.feed_au  \\\n",
              "0               36.808594               6.486150   \n",
              "1               35.753385               6.478583   \n",
              "2               35.971630               6.362222   \n",
              "\n",
              "   rougher.input.floatbank10_sulfate  rougher.input.floatbank10_xanthate  \\\n",
              "0                          11.986616                            6.007990   \n",
              "1                          11.971193                            6.005766   \n",
              "2                          11.920603                            6.197377   \n",
              "\n",
              "   rougher.input.floatbank11_sulfate  rougher.input.floatbank11_xanthate  \\\n",
              "0                          11.836743                            6.005818   \n",
              "1                          11.996163                            6.012594   \n",
              "2                          11.920305                            6.204633   \n",
              "\n",
              "   rougher.output.concentrate_ag  rougher.output.concentrate_pb  \\\n",
              "0                      11.500771                       7.101074   \n",
              "1                      11.615865                       7.278807   \n",
              "2                      11.695753                       7.216833   \n",
              "\n",
              "   rougher.output.concentrate_sol  rougher.output.concentrate_au  \\\n",
              "0                       28.029297                      19.793808   \n",
              "1                       28.067063                      20.050975   \n",
              "2                       27.454037                      19.737170   \n",
              "\n",
              "   rougher.output.recovery  rougher.output.tail_ag  rougher.output.tail_pb  \\\n",
              "0                87.107763                5.008018                0.508728   \n",
              "1                86.843261                4.955378                0.536689   \n",
              "2                86.842308                4.843460                0.546416   \n",
              "\n",
              "   rougher.output.tail_sol  rougher.output.tail_au  \\\n",
              "0                19.154297                1.170244   \n",
              "1                18.965234                1.184827   \n",
              "2                18.808533                1.162562   \n",
              "\n",
              "   rougher.state.floatbank10_a_air  rougher.state.floatbank10_a_level  \\\n",
              "0                       999.706909                        -404.066986   \n",
              "1                      1000.286398                        -400.065196   \n",
              "2                       999.719565                        -400.074028   \n",
              "\n",
              "   rougher.state.floatbank10_b_air  rougher.state.floatbank10_b_level  \\\n",
              "0                      1603.011353                        -434.715027   \n",
              "1                      1600.754587                        -449.953435   \n",
              "2                      1599.337330                        -450.008530   \n",
              "\n",
              "   rougher.state.floatbank10_c_air  rougher.state.floatbank10_c_level  \\\n",
              "0                      1602.375000                        -442.204468   \n",
              "1                      1600.479580                        -449.830646   \n",
              "2                      1599.672797                        -449.954491   \n",
              "\n",
              "   rougher.state.floatbank10_d_air  rougher.state.floatbank10_d_level  \\\n",
              "0                      1598.937256                        -451.294128   \n",
              "1                      1600.527589                        -449.953649   \n",
              "2                      1599.849325                        -449.954185   \n",
              "\n",
              "   rougher.state.floatbank10_e_air  rougher.state.floatbank10_e_level  \\\n",
              "0                      1404.472046                        -455.462982   \n",
              "1                      1399.227084                        -450.869848   \n",
              "2                      1399.180945                        -449.937588   \n",
              "\n",
              "   rougher.state.floatbank10_f_air  rougher.state.floatbank10_f_level  \\\n",
              "0                      1416.354980                        -451.939636   \n",
              "1                      1399.719514                        -450.119001   \n",
              "2                      1400.316682                        -450.527147   \n",
              "\n",
              "   secondary_cleaner.output.tail_ag  secondary_cleaner.output.tail_pb  \\\n",
              "0                         14.500184                          4.694824   \n",
              "1                         14.265474                          4.592547   \n",
              "2                         14.115662                          4.624775   \n",
              "\n",
              "   secondary_cleaner.output.tail_sol  secondary_cleaner.output.tail_au  \\\n",
              "0                           8.764648                          2.606185   \n",
              "1                           9.001494                          2.488248   \n",
              "2                           8.842896                          2.458187   \n",
              "\n",
              "   secondary_cleaner.state.floatbank2_a_air  \\\n",
              "0                                 25.853109   \n",
              "1                                 25.880539   \n",
              "2                                 26.005245   \n",
              "\n",
              "   secondary_cleaner.state.floatbank2_a_level  \\\n",
              "0                                 -498.526489   \n",
              "1                                 -499.989656   \n",
              "2                                 -499.929616   \n",
              "\n",
              "   secondary_cleaner.state.floatbank2_b_air  \\\n",
              "0                                 23.893660   \n",
              "1                                 23.889530   \n",
              "2                                 23.886657   \n",
              "\n",
              "   secondary_cleaner.state.floatbank2_b_level  \\\n",
              "0                                 -501.406281   \n",
              "1                                 -500.372428   \n",
              "2                                 -499.951928   \n",
              "\n",
              "   secondary_cleaner.state.floatbank3_a_air  \\\n",
              "0                                 23.961798   \n",
              "1                                 23.970550   \n",
              "2                                 23.913535   \n",
              "\n",
              "   secondary_cleaner.state.floatbank3_a_level  \\\n",
              "0                                 -495.262817   \n",
              "1                                 -500.085473   \n",
              "2                                 -499.442343   \n",
              "\n",
              "   secondary_cleaner.state.floatbank3_b_air  \\\n",
              "0                                 21.940409   \n",
              "1                                 22.085714   \n",
              "2                                 23.957717   \n",
              "\n",
              "   secondary_cleaner.state.floatbank3_b_level  \\\n",
              "0                                 -499.340973   \n",
              "1                                 -499.446897   \n",
              "2                                 -499.901982   \n",
              "\n",
              "   secondary_cleaner.state.floatbank4_a_air  \\\n",
              "0                                 14.016835   \n",
              "1                                 13.992281   \n",
              "2                                 14.015015   \n",
              "\n",
              "   secondary_cleaner.state.floatbank4_a_level  \\\n",
              "0                                 -502.488007   \n",
              "1                                 -505.503262   \n",
              "2                                 -502.520901   \n",
              "\n",
              "   secondary_cleaner.state.floatbank4_b_air  \\\n",
              "0                                 12.099931   \n",
              "1                                 11.950531   \n",
              "2                                 11.912783   \n",
              "\n",
              "   secondary_cleaner.state.floatbank4_b_level  \\\n",
              "0                                 -504.715942   \n",
              "1                                 -501.331529   \n",
              "2                                 -501.133383   \n",
              "\n",
              "   secondary_cleaner.state.floatbank5_a_air  \\\n",
              "0                                  9.925633   \n",
              "1                                 10.039245   \n",
              "2                                 10.070913   \n",
              "\n",
              "   secondary_cleaner.state.floatbank5_a_level  \\\n",
              "0                                 -498.310211   \n",
              "1                                 -500.169983   \n",
              "2                                 -500.129135   \n",
              "\n",
              "   secondary_cleaner.state.floatbank5_b_air  \\\n",
              "0                                  8.079666   \n",
              "1                                  7.984757   \n",
              "2                                  8.013877   \n",
              "\n",
              "   secondary_cleaner.state.floatbank5_b_level  \\\n",
              "0                                 -500.470978   \n",
              "1                                 -500.582168   \n",
              "2                                 -500.517572   \n",
              "\n",
              "   secondary_cleaner.state.floatbank6_a_air  \\\n",
              "0                                 14.151341   \n",
              "1                                 13.998353   \n",
              "2                                 14.028663   \n",
              "\n",
              "   secondary_cleaner.state.floatbank6_a_level  \n",
              "0                                 -605.841980  \n",
              "1                                 -599.787184  \n",
              "2                                 -601.427363  "
            ],
            "text/html": [
              "\n",
              "  <div id=\"df-f85c57a7-2982-4e86-9ff5-36499cfe6706\" class=\"colab-df-container\">\n",
              "    <div>\n",
              "<style scoped>\n",
              "    .dataframe tbody tr th:only-of-type {\n",
              "        vertical-align: middle;\n",
              "    }\n",
              "\n",
              "    .dataframe tbody tr th {\n",
              "        vertical-align: top;\n",
              "    }\n",
              "\n",
              "    .dataframe thead th {\n",
              "        text-align: right;\n",
              "    }\n",
              "</style>\n",
              "<table border=\"1\" class=\"dataframe\">\n",
              "  <thead>\n",
              "    <tr style=\"text-align: right;\">\n",
              "      <th></th>\n",
              "      <th>date</th>\n",
              "      <th>final.output.concentrate_ag</th>\n",
              "      <th>final.output.concentrate_pb</th>\n",
              "      <th>final.output.concentrate_sol</th>\n",
              "      <th>final.output.concentrate_au</th>\n",
              "      <th>final.output.recovery</th>\n",
              "      <th>final.output.tail_ag</th>\n",
              "      <th>final.output.tail_pb</th>\n",
              "      <th>final.output.tail_sol</th>\n",
              "      <th>final.output.tail_au</th>\n",
              "      <th>primary_cleaner.input.sulfate</th>\n",
              "      <th>primary_cleaner.input.depressant</th>\n",
              "      <th>primary_cleaner.input.feed_size</th>\n",
              "      <th>primary_cleaner.input.xanthate</th>\n",
              "      <th>primary_cleaner.output.concentrate_ag</th>\n",
              "      <th>primary_cleaner.output.concentrate_pb</th>\n",
              "      <th>primary_cleaner.output.concentrate_sol</th>\n",
              "      <th>primary_cleaner.output.concentrate_au</th>\n",
              "      <th>primary_cleaner.output.tail_ag</th>\n",
              "      <th>primary_cleaner.output.tail_pb</th>\n",
              "      <th>primary_cleaner.output.tail_sol</th>\n",
              "      <th>primary_cleaner.output.tail_au</th>\n",
              "      <th>primary_cleaner.state.floatbank8_a_air</th>\n",
              "      <th>primary_cleaner.state.floatbank8_a_level</th>\n",
              "      <th>primary_cleaner.state.floatbank8_b_air</th>\n",
              "      <th>primary_cleaner.state.floatbank8_b_level</th>\n",
              "      <th>primary_cleaner.state.floatbank8_c_air</th>\n",
              "      <th>primary_cleaner.state.floatbank8_c_level</th>\n",
              "      <th>primary_cleaner.state.floatbank8_d_air</th>\n",
              "      <th>primary_cleaner.state.floatbank8_d_level</th>\n",
              "      <th>rougher.calculation.sulfate_to_au_concentrate</th>\n",
              "      <th>rougher.calculation.floatbank10_sulfate_to_au_feed</th>\n",
              "      <th>rougher.calculation.floatbank11_sulfate_to_au_feed</th>\n",
              "      <th>rougher.calculation.au_pb_ratio</th>\n",
              "      <th>rougher.input.feed_ag</th>\n",
              "      <th>rougher.input.feed_pb</th>\n",
              "      <th>rougher.input.feed_rate</th>\n",
              "      <th>rougher.input.feed_size</th>\n",
              "      <th>rougher.input.feed_sol</th>\n",
              "      <th>rougher.input.feed_au</th>\n",
              "      <th>rougher.input.floatbank10_sulfate</th>\n",
              "      <th>rougher.input.floatbank10_xanthate</th>\n",
              "      <th>rougher.input.floatbank11_sulfate</th>\n",
              "      <th>rougher.input.floatbank11_xanthate</th>\n",
              "      <th>rougher.output.concentrate_ag</th>\n",
              "      <th>rougher.output.concentrate_pb</th>\n",
              "      <th>rougher.output.concentrate_sol</th>\n",
              "      <th>rougher.output.concentrate_au</th>\n",
              "      <th>rougher.output.recovery</th>\n",
              "      <th>rougher.output.tail_ag</th>\n",
              "      <th>rougher.output.tail_pb</th>\n",
              "      <th>rougher.output.tail_sol</th>\n",
              "      <th>rougher.output.tail_au</th>\n",
              "      <th>rougher.state.floatbank10_a_air</th>\n",
              "      <th>rougher.state.floatbank10_a_level</th>\n",
              "      <th>rougher.state.floatbank10_b_air</th>\n",
              "      <th>rougher.state.floatbank10_b_level</th>\n",
              "      <th>rougher.state.floatbank10_c_air</th>\n",
              "      <th>rougher.state.floatbank10_c_level</th>\n",
              "      <th>rougher.state.floatbank10_d_air</th>\n",
              "      <th>rougher.state.floatbank10_d_level</th>\n",
              "      <th>rougher.state.floatbank10_e_air</th>\n",
              "      <th>rougher.state.floatbank10_e_level</th>\n",
              "      <th>rougher.state.floatbank10_f_air</th>\n",
              "      <th>rougher.state.floatbank10_f_level</th>\n",
              "      <th>secondary_cleaner.output.tail_ag</th>\n",
              "      <th>secondary_cleaner.output.tail_pb</th>\n",
              "      <th>secondary_cleaner.output.tail_sol</th>\n",
              "      <th>secondary_cleaner.output.tail_au</th>\n",
              "      <th>secondary_cleaner.state.floatbank2_a_air</th>\n",
              "      <th>secondary_cleaner.state.floatbank2_a_level</th>\n",
              "      <th>secondary_cleaner.state.floatbank2_b_air</th>\n",
              "      <th>secondary_cleaner.state.floatbank2_b_level</th>\n",
              "      <th>secondary_cleaner.state.floatbank3_a_air</th>\n",
              "      <th>secondary_cleaner.state.floatbank3_a_level</th>\n",
              "      <th>secondary_cleaner.state.floatbank3_b_air</th>\n",
              "      <th>secondary_cleaner.state.floatbank3_b_level</th>\n",
              "      <th>secondary_cleaner.state.floatbank4_a_air</th>\n",
              "      <th>secondary_cleaner.state.floatbank4_a_level</th>\n",
              "      <th>secondary_cleaner.state.floatbank4_b_air</th>\n",
              "      <th>secondary_cleaner.state.floatbank4_b_level</th>\n",
              "      <th>secondary_cleaner.state.floatbank5_a_air</th>\n",
              "      <th>secondary_cleaner.state.floatbank5_a_level</th>\n",
              "      <th>secondary_cleaner.state.floatbank5_b_air</th>\n",
              "      <th>secondary_cleaner.state.floatbank5_b_level</th>\n",
              "      <th>secondary_cleaner.state.floatbank6_a_air</th>\n",
              "      <th>secondary_cleaner.state.floatbank6_a_level</th>\n",
              "    </tr>\n",
              "  </thead>\n",
              "  <tbody>\n",
              "    <tr>\n",
              "      <th>0</th>\n",
              "      <td>2016-01-15 00:00:00</td>\n",
              "      <td>6.055403</td>\n",
              "      <td>9.889648</td>\n",
              "      <td>5.507324</td>\n",
              "      <td>42.192020</td>\n",
              "      <td>70.541216</td>\n",
              "      <td>10.411962</td>\n",
              "      <td>0.895447</td>\n",
              "      <td>16.904297</td>\n",
              "      <td>2.143149</td>\n",
              "      <td>127.092003</td>\n",
              "      <td>10.128295</td>\n",
              "      <td>7.25</td>\n",
              "      <td>0.988759</td>\n",
              "      <td>8.547551</td>\n",
              "      <td>10.389648</td>\n",
              "      <td>19.529297</td>\n",
              "      <td>34.174427</td>\n",
              "      <td>14.936526</td>\n",
              "      <td>2.534912</td>\n",
              "      <td>7.476074</td>\n",
              "      <td>2.106679</td>\n",
              "      <td>1549.775757</td>\n",
              "      <td>-498.912140</td>\n",
              "      <td>1551.434204</td>\n",
              "      <td>-516.403442</td>\n",
              "      <td>1549.873901</td>\n",
              "      <td>-498.666595</td>\n",
              "      <td>1554.367432</td>\n",
              "      <td>-493.428131</td>\n",
              "      <td>41885.707031</td>\n",
              "      <td>3481.779053</td>\n",
              "      <td>3520.337158</td>\n",
              "      <td>2.838687</td>\n",
              "      <td>6.100378</td>\n",
              "      <td>2.284912</td>\n",
              "      <td>523.546326</td>\n",
              "      <td>55.486599</td>\n",
              "      <td>36.808594</td>\n",
              "      <td>6.486150</td>\n",
              "      <td>11.986616</td>\n",
              "      <td>6.007990</td>\n",
              "      <td>11.836743</td>\n",
              "      <td>6.005818</td>\n",
              "      <td>11.500771</td>\n",
              "      <td>7.101074</td>\n",
              "      <td>28.029297</td>\n",
              "      <td>19.793808</td>\n",
              "      <td>87.107763</td>\n",
              "      <td>5.008018</td>\n",
              "      <td>0.508728</td>\n",
              "      <td>19.154297</td>\n",
              "      <td>1.170244</td>\n",
              "      <td>999.706909</td>\n",
              "      <td>-404.066986</td>\n",
              "      <td>1603.011353</td>\n",
              "      <td>-434.715027</td>\n",
              "      <td>1602.375000</td>\n",
              "      <td>-442.204468</td>\n",
              "      <td>1598.937256</td>\n",
              "      <td>-451.294128</td>\n",
              "      <td>1404.472046</td>\n",
              "      <td>-455.462982</td>\n",
              "      <td>1416.354980</td>\n",
              "      <td>-451.939636</td>\n",
              "      <td>14.500184</td>\n",
              "      <td>4.694824</td>\n",
              "      <td>8.764648</td>\n",
              "      <td>2.606185</td>\n",
              "      <td>25.853109</td>\n",
              "      <td>-498.526489</td>\n",
              "      <td>23.893660</td>\n",
              "      <td>-501.406281</td>\n",
              "      <td>23.961798</td>\n",
              "      <td>-495.262817</td>\n",
              "      <td>21.940409</td>\n",
              "      <td>-499.340973</td>\n",
              "      <td>14.016835</td>\n",
              "      <td>-502.488007</td>\n",
              "      <td>12.099931</td>\n",
              "      <td>-504.715942</td>\n",
              "      <td>9.925633</td>\n",
              "      <td>-498.310211</td>\n",
              "      <td>8.079666</td>\n",
              "      <td>-500.470978</td>\n",
              "      <td>14.151341</td>\n",
              "      <td>-605.841980</td>\n",
              "    </tr>\n",
              "    <tr>\n",
              "      <th>1</th>\n",
              "      <td>2016-01-15 01:00:00</td>\n",
              "      <td>6.029369</td>\n",
              "      <td>9.968944</td>\n",
              "      <td>5.257781</td>\n",
              "      <td>42.701629</td>\n",
              "      <td>69.266198</td>\n",
              "      <td>10.462676</td>\n",
              "      <td>0.927452</td>\n",
              "      <td>16.634514</td>\n",
              "      <td>2.224930</td>\n",
              "      <td>125.629232</td>\n",
              "      <td>10.296251</td>\n",
              "      <td>7.25</td>\n",
              "      <td>1.002663</td>\n",
              "      <td>8.558743</td>\n",
              "      <td>10.497069</td>\n",
              "      <td>19.369147</td>\n",
              "      <td>34.118526</td>\n",
              "      <td>16.250511</td>\n",
              "      <td>3.049646</td>\n",
              "      <td>6.733907</td>\n",
              "      <td>2.353017</td>\n",
              "      <td>1576.166671</td>\n",
              "      <td>-500.904965</td>\n",
              "      <td>1575.950626</td>\n",
              "      <td>-499.865889</td>\n",
              "      <td>1575.994189</td>\n",
              "      <td>-499.315107</td>\n",
              "      <td>1574.479259</td>\n",
              "      <td>-498.931665</td>\n",
              "      <td>42050.861809</td>\n",
              "      <td>3498.370979</td>\n",
              "      <td>3489.981857</td>\n",
              "      <td>2.858998</td>\n",
              "      <td>6.161113</td>\n",
              "      <td>2.266033</td>\n",
              "      <td>525.290581</td>\n",
              "      <td>57.278666</td>\n",
              "      <td>35.753385</td>\n",
              "      <td>6.478583</td>\n",
              "      <td>11.971193</td>\n",
              "      <td>6.005766</td>\n",
              "      <td>11.996163</td>\n",
              "      <td>6.012594</td>\n",
              "      <td>11.615865</td>\n",
              "      <td>7.278807</td>\n",
              "      <td>28.067063</td>\n",
              "      <td>20.050975</td>\n",
              "      <td>86.843261</td>\n",
              "      <td>4.955378</td>\n",
              "      <td>0.536689</td>\n",
              "      <td>18.965234</td>\n",
              "      <td>1.184827</td>\n",
              "      <td>1000.286398</td>\n",
              "      <td>-400.065196</td>\n",
              "      <td>1600.754587</td>\n",
              "      <td>-449.953435</td>\n",
              "      <td>1600.479580</td>\n",
              "      <td>-449.830646</td>\n",
              "      <td>1600.527589</td>\n",
              "      <td>-449.953649</td>\n",
              "      <td>1399.227084</td>\n",
              "      <td>-450.869848</td>\n",
              "      <td>1399.719514</td>\n",
              "      <td>-450.119001</td>\n",
              "      <td>14.265474</td>\n",
              "      <td>4.592547</td>\n",
              "      <td>9.001494</td>\n",
              "      <td>2.488248</td>\n",
              "      <td>25.880539</td>\n",
              "      <td>-499.989656</td>\n",
              "      <td>23.889530</td>\n",
              "      <td>-500.372428</td>\n",
              "      <td>23.970550</td>\n",
              "      <td>-500.085473</td>\n",
              "      <td>22.085714</td>\n",
              "      <td>-499.446897</td>\n",
              "      <td>13.992281</td>\n",
              "      <td>-505.503262</td>\n",
              "      <td>11.950531</td>\n",
              "      <td>-501.331529</td>\n",
              "      <td>10.039245</td>\n",
              "      <td>-500.169983</td>\n",
              "      <td>7.984757</td>\n",
              "      <td>-500.582168</td>\n",
              "      <td>13.998353</td>\n",
              "      <td>-599.787184</td>\n",
              "    </tr>\n",
              "    <tr>\n",
              "      <th>2</th>\n",
              "      <td>2016-01-15 02:00:00</td>\n",
              "      <td>6.055926</td>\n",
              "      <td>10.213995</td>\n",
              "      <td>5.383759</td>\n",
              "      <td>42.657501</td>\n",
              "      <td>68.116445</td>\n",
              "      <td>10.507046</td>\n",
              "      <td>0.953716</td>\n",
              "      <td>16.208849</td>\n",
              "      <td>2.257889</td>\n",
              "      <td>123.819808</td>\n",
              "      <td>11.316280</td>\n",
              "      <td>7.25</td>\n",
              "      <td>0.991265</td>\n",
              "      <td>8.603505</td>\n",
              "      <td>10.354494</td>\n",
              "      <td>19.167579</td>\n",
              "      <td>33.969464</td>\n",
              "      <td>16.491823</td>\n",
              "      <td>3.124664</td>\n",
              "      <td>6.471768</td>\n",
              "      <td>2.416800</td>\n",
              "      <td>1601.556163</td>\n",
              "      <td>-499.997791</td>\n",
              "      <td>1600.386685</td>\n",
              "      <td>-500.607762</td>\n",
              "      <td>1602.003542</td>\n",
              "      <td>-500.870069</td>\n",
              "      <td>1599.541515</td>\n",
              "      <td>-499.827444</td>\n",
              "      <td>42018.101184</td>\n",
              "      <td>3495.348910</td>\n",
              "      <td>3502.359819</td>\n",
              "      <td>2.945989</td>\n",
              "      <td>6.116455</td>\n",
              "      <td>2.159622</td>\n",
              "      <td>530.026610</td>\n",
              "      <td>57.510649</td>\n",
              "      <td>35.971630</td>\n",
              "      <td>6.362222</td>\n",
              "      <td>11.920603</td>\n",
              "      <td>6.197377</td>\n",
              "      <td>11.920305</td>\n",
              "      <td>6.204633</td>\n",
              "      <td>11.695753</td>\n",
              "      <td>7.216833</td>\n",
              "      <td>27.454037</td>\n",
              "      <td>19.737170</td>\n",
              "      <td>86.842308</td>\n",
              "      <td>4.843460</td>\n",
              "      <td>0.546416</td>\n",
              "      <td>18.808533</td>\n",
              "      <td>1.162562</td>\n",
              "      <td>999.719565</td>\n",
              "      <td>-400.074028</td>\n",
              "      <td>1599.337330</td>\n",
              "      <td>-450.008530</td>\n",
              "      <td>1599.672797</td>\n",
              "      <td>-449.954491</td>\n",
              "      <td>1599.849325</td>\n",
              "      <td>-449.954185</td>\n",
              "      <td>1399.180945</td>\n",
              "      <td>-449.937588</td>\n",
              "      <td>1400.316682</td>\n",
              "      <td>-450.527147</td>\n",
              "      <td>14.115662</td>\n",
              "      <td>4.624775</td>\n",
              "      <td>8.842896</td>\n",
              "      <td>2.458187</td>\n",
              "      <td>26.005245</td>\n",
              "      <td>-499.929616</td>\n",
              "      <td>23.886657</td>\n",
              "      <td>-499.951928</td>\n",
              "      <td>23.913535</td>\n",
              "      <td>-499.442343</td>\n",
              "      <td>23.957717</td>\n",
              "      <td>-499.901982</td>\n",
              "      <td>14.015015</td>\n",
              "      <td>-502.520901</td>\n",
              "      <td>11.912783</td>\n",
              "      <td>-501.133383</td>\n",
              "      <td>10.070913</td>\n",
              "      <td>-500.129135</td>\n",
              "      <td>8.013877</td>\n",
              "      <td>-500.517572</td>\n",
              "      <td>14.028663</td>\n",
              "      <td>-601.427363</td>\n",
              "    </tr>\n",
              "  </tbody>\n",
              "</table>\n",
              "</div>\n",
              "    <div class=\"colab-df-buttons\">\n",
              "\n",
              "  <div class=\"colab-df-container\">\n",
              "    <button class=\"colab-df-convert\" onclick=\"convertToInteractive('df-f85c57a7-2982-4e86-9ff5-36499cfe6706')\"\n",
              "            title=\"Convert this dataframe to an interactive table.\"\n",
              "            style=\"display:none;\">\n",
              "\n",
              "  <svg xmlns=\"http://www.w3.org/2000/svg\" height=\"24px\" viewBox=\"0 -960 960 960\">\n",
              "    <path d=\"M120-120v-720h720v720H120Zm60-500h600v-160H180v160Zm220 220h160v-160H400v160Zm0 220h160v-160H400v160ZM180-400h160v-160H180v160Zm440 0h160v-160H620v160ZM180-180h160v-160H180v160Zm440 0h160v-160H620v160Z\"/>\n",
              "  </svg>\n",
              "    </button>\n",
              "\n",
              "  <style>\n",
              "    .colab-df-container {\n",
              "      display:flex;\n",
              "      gap: 12px;\n",
              "    }\n",
              "\n",
              "    .colab-df-convert {\n",
              "      background-color: #E8F0FE;\n",
              "      border: none;\n",
              "      border-radius: 50%;\n",
              "      cursor: pointer;\n",
              "      display: none;\n",
              "      fill: #1967D2;\n",
              "      height: 32px;\n",
              "      padding: 0 0 0 0;\n",
              "      width: 32px;\n",
              "    }\n",
              "\n",
              "    .colab-df-convert:hover {\n",
              "      background-color: #E2EBFA;\n",
              "      box-shadow: 0px 1px 2px rgba(60, 64, 67, 0.3), 0px 1px 3px 1px rgba(60, 64, 67, 0.15);\n",
              "      fill: #174EA6;\n",
              "    }\n",
              "\n",
              "    .colab-df-buttons div {\n",
              "      margin-bottom: 4px;\n",
              "    }\n",
              "\n",
              "    [theme=dark] .colab-df-convert {\n",
              "      background-color: #3B4455;\n",
              "      fill: #D2E3FC;\n",
              "    }\n",
              "\n",
              "    [theme=dark] .colab-df-convert:hover {\n",
              "      background-color: #434B5C;\n",
              "      box-shadow: 0px 1px 3px 1px rgba(0, 0, 0, 0.15);\n",
              "      filter: drop-shadow(0px 1px 2px rgba(0, 0, 0, 0.3));\n",
              "      fill: #FFFFFF;\n",
              "    }\n",
              "  </style>\n",
              "\n",
              "    <script>\n",
              "      const buttonEl =\n",
              "        document.querySelector('#df-f85c57a7-2982-4e86-9ff5-36499cfe6706 button.colab-df-convert');\n",
              "      buttonEl.style.display =\n",
              "        google.colab.kernel.accessAllowed ? 'block' : 'none';\n",
              "\n",
              "      async function convertToInteractive(key) {\n",
              "        const element = document.querySelector('#df-f85c57a7-2982-4e86-9ff5-36499cfe6706');\n",
              "        const dataTable =\n",
              "          await google.colab.kernel.invokeFunction('convertToInteractive',\n",
              "                                                    [key], {});\n",
              "        if (!dataTable) return;\n",
              "\n",
              "        const docLinkHtml = 'Like what you see? Visit the ' +\n",
              "          '<a target=\"_blank\" href=https://colab.research.google.com/notebooks/data_table.ipynb>data table notebook</a>'\n",
              "          + ' to learn more about interactive tables.';\n",
              "        element.innerHTML = '';\n",
              "        dataTable['output_type'] = 'display_data';\n",
              "        await google.colab.output.renderOutput(dataTable, element);\n",
              "        const docLink = document.createElement('div');\n",
              "        docLink.innerHTML = docLinkHtml;\n",
              "        element.appendChild(docLink);\n",
              "      }\n",
              "    </script>\n",
              "  </div>\n",
              "\n",
              "    </div>\n",
              "  </div>\n"
            ]
          },
          "metadata": {}
        },
        {
          "output_type": "stream",
          "name": "stdout",
          "text": [
            "\n",
            "Датасет test\n",
            "\n",
            "<class 'pandas.core.frame.DataFrame'>\n",
            "RangeIndex: 5290 entries, 0 to 5289\n",
            "Columns: 53 entries, date to secondary_cleaner.state.floatbank6_a_level\n",
            "dtypes: float64(52), object(1)\n",
            "memory usage: 2.1+ MB\n",
            "\n",
            "Пропуски\n",
            "\n",
            "rougher.input.floatbank11_xanthate          25\n",
            "rougher.input.feed_sol                      21\n",
            "secondary_cleaner.state.floatbank3_a_air     9\n",
            "rougher.input.floatbank11_sulfate            8\n",
            "primary_cleaner.input.depressant             5\n",
            "dtype: int64\n"
          ]
        },
        {
          "output_type": "display_data",
          "data": {
            "text/plain": [
              "                  date  primary_cleaner.input.sulfate  \\\n",
              "0  2016-09-01 00:59:59                     210.800909   \n",
              "1  2016-09-01 01:59:59                     215.392455   \n",
              "2  2016-09-01 02:59:59                     215.259946   \n",
              "\n",
              "   primary_cleaner.input.depressant  primary_cleaner.input.feed_size  \\\n",
              "0                         14.993118                         8.080000   \n",
              "1                         14.987471                         8.080000   \n",
              "2                         12.884934                         7.786667   \n",
              "\n",
              "   primary_cleaner.input.xanthate  primary_cleaner.state.floatbank8_a_air  \\\n",
              "0                        1.005021                             1398.981301   \n",
              "1                        0.990469                             1398.777912   \n",
              "2                        0.996043                             1398.493666   \n",
              "\n",
              "   primary_cleaner.state.floatbank8_a_level  \\\n",
              "0                               -500.225577   \n",
              "1                               -500.057435   \n",
              "2                               -500.868360   \n",
              "\n",
              "   primary_cleaner.state.floatbank8_b_air  \\\n",
              "0                             1399.144926   \n",
              "1                             1398.055362   \n",
              "2                             1398.860436   \n",
              "\n",
              "   primary_cleaner.state.floatbank8_b_level  \\\n",
              "0                               -499.919735   \n",
              "1                               -499.778182   \n",
              "2                               -499.764529   \n",
              "\n",
              "   primary_cleaner.state.floatbank8_c_air  \\\n",
              "0                             1400.102998   \n",
              "1                             1396.151033   \n",
              "2                             1398.075709   \n",
              "\n",
              "   primary_cleaner.state.floatbank8_c_level  \\\n",
              "0                               -500.704369   \n",
              "1                               -499.240168   \n",
              "2                               -502.151509   \n",
              "\n",
              "   primary_cleaner.state.floatbank8_d_air  \\\n",
              "0                             1399.001695   \n",
              "1                             1399.508091   \n",
              "2                             1399.497088   \n",
              "\n",
              "   primary_cleaner.state.floatbank8_d_level  rougher.input.feed_ag  \\\n",
              "0                               -499.485144              13.128569   \n",
              "1                               -500.416324              13.036280   \n",
              "2                               -499.715479              13.138412   \n",
              "\n",
              "   rougher.input.feed_pb  rougher.input.feed_rate  rougher.input.feed_size  \\\n",
              "0               5.636710               489.793655                62.710452   \n",
              "1               5.526065               490.104534                61.961163   \n",
              "2               5.426561               489.617969                66.903807   \n",
              "\n",
              "   rougher.input.feed_sol  rougher.input.feed_au  \\\n",
              "0               42.022440              12.084103   \n",
              "1               41.187903              11.918977   \n",
              "2               42.546294              12.091332   \n",
              "\n",
              "   rougher.input.floatbank10_sulfate  rougher.input.floatbank10_xanthate  \\\n",
              "0                          16.922877                            6.153479   \n",
              "1                          17.002532                            5.999043   \n",
              "2                          16.992520                            5.850632   \n",
              "\n",
              "   rougher.input.floatbank11_sulfate  rougher.input.floatbank11_xanthate  \\\n",
              "0                          16.867518                            6.150709   \n",
              "1                          16.996063                            6.002315   \n",
              "2                          16.982096                            5.853594   \n",
              "\n",
              "   rougher.state.floatbank10_a_air  rougher.state.floatbank10_a_level  \\\n",
              "0                      1001.849317                        -350.301265   \n",
              "1                       998.690785                        -350.425704   \n",
              "2                       998.516720                        -349.783538   \n",
              "\n",
              "   rougher.state.floatbank10_b_air  rougher.state.floatbank10_b_level  \\\n",
              "0                      1249.738612                        -399.107531   \n",
              "1                      1248.395457                        -399.946025   \n",
              "2                      1247.440748                        -400.264330   \n",
              "\n",
              "   rougher.state.floatbank10_c_air  rougher.state.floatbank10_c_level  \\\n",
              "0                      1249.750520                        -399.396730   \n",
              "1                      1249.514451                        -399.630810   \n",
              "2                      1248.207204                        -401.074405   \n",
              "\n",
              "   rougher.state.floatbank10_d_air  rougher.state.floatbank10_d_level  \\\n",
              "0                      1198.287855                        -399.488594   \n",
              "1                      1200.506459                        -399.942434   \n",
              "2                      1199.770026                        -400.790582   \n",
              "\n",
              "   rougher.state.floatbank10_e_air  rougher.state.floatbank10_e_level  \\\n",
              "0                       999.472250                        -399.530962   \n",
              "1                      1000.002114                        -399.491528   \n",
              "2                       999.925519                        -399.236999   \n",
              "\n",
              "   rougher.state.floatbank10_f_air  rougher.state.floatbank10_f_level  \\\n",
              "0                       949.566189                        -398.180807   \n",
              "1                       950.200009                        -405.787514   \n",
              "2                       950.320481                        -400.864340   \n",
              "\n",
              "   secondary_cleaner.state.floatbank2_a_air  \\\n",
              "0                                 24.938200   \n",
              "1                                 24.923466   \n",
              "2                                 24.908732   \n",
              "\n",
              "   secondary_cleaner.state.floatbank2_a_level  \\\n",
              "0                                 -500.490963   \n",
              "1                                 -499.813963   \n",
              "2                                 -500.304035   \n",
              "\n",
              "   secondary_cleaner.state.floatbank2_b_air  \\\n",
              "0                                 14.947607   \n",
              "1                                 14.930873   \n",
              "2                                 14.996511   \n",
              "\n",
              "   secondary_cleaner.state.floatbank2_b_level  \\\n",
              "0                                 -500.013837   \n",
              "1                                 -500.764452   \n",
              "2                                 -500.993821   \n",
              "\n",
              "   secondary_cleaner.state.floatbank3_a_air  \\\n",
              "0                                 20.018166   \n",
              "1                                 19.988503   \n",
              "2                                 20.039689   \n",
              "\n",
              "   secondary_cleaner.state.floatbank3_a_level  \\\n",
              "0                                 -450.395995   \n",
              "1                                 -450.114024   \n",
              "2                                 -450.263164   \n",
              "\n",
              "   secondary_cleaner.state.floatbank3_b_air  \\\n",
              "0                                 13.987058   \n",
              "1                                 14.092981   \n",
              "2                                 14.077881   \n",
              "\n",
              "   secondary_cleaner.state.floatbank3_b_level  \\\n",
              "0                                 -449.831513   \n",
              "1                                 -450.059163   \n",
              "2                                 -449.660997   \n",
              "\n",
              "   secondary_cleaner.state.floatbank4_a_air  \\\n",
              "0                                 12.023554   \n",
              "1                                 12.058140   \n",
              "2                                 11.962366   \n",
              "\n",
              "   secondary_cleaner.state.floatbank4_a_level  \\\n",
              "0                                 -497.795834   \n",
              "1                                 -498.695773   \n",
              "2                                 -498.767484   \n",
              "\n",
              "   secondary_cleaner.state.floatbank4_b_air  \\\n",
              "0                                  8.016656   \n",
              "1                                  8.130979   \n",
              "2                                  8.096893   \n",
              "\n",
              "   secondary_cleaner.state.floatbank4_b_level  \\\n",
              "0                                 -501.289139   \n",
              "1                                 -499.634209   \n",
              "2                                 -500.827423   \n",
              "\n",
              "   secondary_cleaner.state.floatbank5_a_air  \\\n",
              "0                                  7.946562   \n",
              "1                                  7.958270   \n",
              "2                                  8.071056   \n",
              "\n",
              "   secondary_cleaner.state.floatbank5_a_level  \\\n",
              "0                                 -432.317850   \n",
              "1                                 -525.839648   \n",
              "2                                 -500.801673   \n",
              "\n",
              "   secondary_cleaner.state.floatbank5_b_air  \\\n",
              "0                                  4.872511   \n",
              "1                                  4.878850   \n",
              "2                                  4.905125   \n",
              "\n",
              "   secondary_cleaner.state.floatbank5_b_level  \\\n",
              "0                                 -500.037437   \n",
              "1                                 -500.162375   \n",
              "2                                 -499.828510   \n",
              "\n",
              "   secondary_cleaner.state.floatbank6_a_air  \\\n",
              "0                                 26.705889   \n",
              "1                                 25.019940   \n",
              "2                                 24.994862   \n",
              "\n",
              "   secondary_cleaner.state.floatbank6_a_level  \n",
              "0                                 -499.709414  \n",
              "1                                 -499.819438  \n",
              "2                                 -500.622559  "
            ],
            "text/html": [
              "\n",
              "  <div id=\"df-32b4f130-1b06-4683-861b-5c06fe12ba43\" class=\"colab-df-container\">\n",
              "    <div>\n",
              "<style scoped>\n",
              "    .dataframe tbody tr th:only-of-type {\n",
              "        vertical-align: middle;\n",
              "    }\n",
              "\n",
              "    .dataframe tbody tr th {\n",
              "        vertical-align: top;\n",
              "    }\n",
              "\n",
              "    .dataframe thead th {\n",
              "        text-align: right;\n",
              "    }\n",
              "</style>\n",
              "<table border=\"1\" class=\"dataframe\">\n",
              "  <thead>\n",
              "    <tr style=\"text-align: right;\">\n",
              "      <th></th>\n",
              "      <th>date</th>\n",
              "      <th>primary_cleaner.input.sulfate</th>\n",
              "      <th>primary_cleaner.input.depressant</th>\n",
              "      <th>primary_cleaner.input.feed_size</th>\n",
              "      <th>primary_cleaner.input.xanthate</th>\n",
              "      <th>primary_cleaner.state.floatbank8_a_air</th>\n",
              "      <th>primary_cleaner.state.floatbank8_a_level</th>\n",
              "      <th>primary_cleaner.state.floatbank8_b_air</th>\n",
              "      <th>primary_cleaner.state.floatbank8_b_level</th>\n",
              "      <th>primary_cleaner.state.floatbank8_c_air</th>\n",
              "      <th>primary_cleaner.state.floatbank8_c_level</th>\n",
              "      <th>primary_cleaner.state.floatbank8_d_air</th>\n",
              "      <th>primary_cleaner.state.floatbank8_d_level</th>\n",
              "      <th>rougher.input.feed_ag</th>\n",
              "      <th>rougher.input.feed_pb</th>\n",
              "      <th>rougher.input.feed_rate</th>\n",
              "      <th>rougher.input.feed_size</th>\n",
              "      <th>rougher.input.feed_sol</th>\n",
              "      <th>rougher.input.feed_au</th>\n",
              "      <th>rougher.input.floatbank10_sulfate</th>\n",
              "      <th>rougher.input.floatbank10_xanthate</th>\n",
              "      <th>rougher.input.floatbank11_sulfate</th>\n",
              "      <th>rougher.input.floatbank11_xanthate</th>\n",
              "      <th>rougher.state.floatbank10_a_air</th>\n",
              "      <th>rougher.state.floatbank10_a_level</th>\n",
              "      <th>rougher.state.floatbank10_b_air</th>\n",
              "      <th>rougher.state.floatbank10_b_level</th>\n",
              "      <th>rougher.state.floatbank10_c_air</th>\n",
              "      <th>rougher.state.floatbank10_c_level</th>\n",
              "      <th>rougher.state.floatbank10_d_air</th>\n",
              "      <th>rougher.state.floatbank10_d_level</th>\n",
              "      <th>rougher.state.floatbank10_e_air</th>\n",
              "      <th>rougher.state.floatbank10_e_level</th>\n",
              "      <th>rougher.state.floatbank10_f_air</th>\n",
              "      <th>rougher.state.floatbank10_f_level</th>\n",
              "      <th>secondary_cleaner.state.floatbank2_a_air</th>\n",
              "      <th>secondary_cleaner.state.floatbank2_a_level</th>\n",
              "      <th>secondary_cleaner.state.floatbank2_b_air</th>\n",
              "      <th>secondary_cleaner.state.floatbank2_b_level</th>\n",
              "      <th>secondary_cleaner.state.floatbank3_a_air</th>\n",
              "      <th>secondary_cleaner.state.floatbank3_a_level</th>\n",
              "      <th>secondary_cleaner.state.floatbank3_b_air</th>\n",
              "      <th>secondary_cleaner.state.floatbank3_b_level</th>\n",
              "      <th>secondary_cleaner.state.floatbank4_a_air</th>\n",
              "      <th>secondary_cleaner.state.floatbank4_a_level</th>\n",
              "      <th>secondary_cleaner.state.floatbank4_b_air</th>\n",
              "      <th>secondary_cleaner.state.floatbank4_b_level</th>\n",
              "      <th>secondary_cleaner.state.floatbank5_a_air</th>\n",
              "      <th>secondary_cleaner.state.floatbank5_a_level</th>\n",
              "      <th>secondary_cleaner.state.floatbank5_b_air</th>\n",
              "      <th>secondary_cleaner.state.floatbank5_b_level</th>\n",
              "      <th>secondary_cleaner.state.floatbank6_a_air</th>\n",
              "      <th>secondary_cleaner.state.floatbank6_a_level</th>\n",
              "    </tr>\n",
              "  </thead>\n",
              "  <tbody>\n",
              "    <tr>\n",
              "      <th>0</th>\n",
              "      <td>2016-09-01 00:59:59</td>\n",
              "      <td>210.800909</td>\n",
              "      <td>14.993118</td>\n",
              "      <td>8.080000</td>\n",
              "      <td>1.005021</td>\n",
              "      <td>1398.981301</td>\n",
              "      <td>-500.225577</td>\n",
              "      <td>1399.144926</td>\n",
              "      <td>-499.919735</td>\n",
              "      <td>1400.102998</td>\n",
              "      <td>-500.704369</td>\n",
              "      <td>1399.001695</td>\n",
              "      <td>-499.485144</td>\n",
              "      <td>13.128569</td>\n",
              "      <td>5.636710</td>\n",
              "      <td>489.793655</td>\n",
              "      <td>62.710452</td>\n",
              "      <td>42.022440</td>\n",
              "      <td>12.084103</td>\n",
              "      <td>16.922877</td>\n",
              "      <td>6.153479</td>\n",
              "      <td>16.867518</td>\n",
              "      <td>6.150709</td>\n",
              "      <td>1001.849317</td>\n",
              "      <td>-350.301265</td>\n",
              "      <td>1249.738612</td>\n",
              "      <td>-399.107531</td>\n",
              "      <td>1249.750520</td>\n",
              "      <td>-399.396730</td>\n",
              "      <td>1198.287855</td>\n",
              "      <td>-399.488594</td>\n",
              "      <td>999.472250</td>\n",
              "      <td>-399.530962</td>\n",
              "      <td>949.566189</td>\n",
              "      <td>-398.180807</td>\n",
              "      <td>24.938200</td>\n",
              "      <td>-500.490963</td>\n",
              "      <td>14.947607</td>\n",
              "      <td>-500.013837</td>\n",
              "      <td>20.018166</td>\n",
              "      <td>-450.395995</td>\n",
              "      <td>13.987058</td>\n",
              "      <td>-449.831513</td>\n",
              "      <td>12.023554</td>\n",
              "      <td>-497.795834</td>\n",
              "      <td>8.016656</td>\n",
              "      <td>-501.289139</td>\n",
              "      <td>7.946562</td>\n",
              "      <td>-432.317850</td>\n",
              "      <td>4.872511</td>\n",
              "      <td>-500.037437</td>\n",
              "      <td>26.705889</td>\n",
              "      <td>-499.709414</td>\n",
              "    </tr>\n",
              "    <tr>\n",
              "      <th>1</th>\n",
              "      <td>2016-09-01 01:59:59</td>\n",
              "      <td>215.392455</td>\n",
              "      <td>14.987471</td>\n",
              "      <td>8.080000</td>\n",
              "      <td>0.990469</td>\n",
              "      <td>1398.777912</td>\n",
              "      <td>-500.057435</td>\n",
              "      <td>1398.055362</td>\n",
              "      <td>-499.778182</td>\n",
              "      <td>1396.151033</td>\n",
              "      <td>-499.240168</td>\n",
              "      <td>1399.508091</td>\n",
              "      <td>-500.416324</td>\n",
              "      <td>13.036280</td>\n",
              "      <td>5.526065</td>\n",
              "      <td>490.104534</td>\n",
              "      <td>61.961163</td>\n",
              "      <td>41.187903</td>\n",
              "      <td>11.918977</td>\n",
              "      <td>17.002532</td>\n",
              "      <td>5.999043</td>\n",
              "      <td>16.996063</td>\n",
              "      <td>6.002315</td>\n",
              "      <td>998.690785</td>\n",
              "      <td>-350.425704</td>\n",
              "      <td>1248.395457</td>\n",
              "      <td>-399.946025</td>\n",
              "      <td>1249.514451</td>\n",
              "      <td>-399.630810</td>\n",
              "      <td>1200.506459</td>\n",
              "      <td>-399.942434</td>\n",
              "      <td>1000.002114</td>\n",
              "      <td>-399.491528</td>\n",
              "      <td>950.200009</td>\n",
              "      <td>-405.787514</td>\n",
              "      <td>24.923466</td>\n",
              "      <td>-499.813963</td>\n",
              "      <td>14.930873</td>\n",
              "      <td>-500.764452</td>\n",
              "      <td>19.988503</td>\n",
              "      <td>-450.114024</td>\n",
              "      <td>14.092981</td>\n",
              "      <td>-450.059163</td>\n",
              "      <td>12.058140</td>\n",
              "      <td>-498.695773</td>\n",
              "      <td>8.130979</td>\n",
              "      <td>-499.634209</td>\n",
              "      <td>7.958270</td>\n",
              "      <td>-525.839648</td>\n",
              "      <td>4.878850</td>\n",
              "      <td>-500.162375</td>\n",
              "      <td>25.019940</td>\n",
              "      <td>-499.819438</td>\n",
              "    </tr>\n",
              "    <tr>\n",
              "      <th>2</th>\n",
              "      <td>2016-09-01 02:59:59</td>\n",
              "      <td>215.259946</td>\n",
              "      <td>12.884934</td>\n",
              "      <td>7.786667</td>\n",
              "      <td>0.996043</td>\n",
              "      <td>1398.493666</td>\n",
              "      <td>-500.868360</td>\n",
              "      <td>1398.860436</td>\n",
              "      <td>-499.764529</td>\n",
              "      <td>1398.075709</td>\n",
              "      <td>-502.151509</td>\n",
              "      <td>1399.497088</td>\n",
              "      <td>-499.715479</td>\n",
              "      <td>13.138412</td>\n",
              "      <td>5.426561</td>\n",
              "      <td>489.617969</td>\n",
              "      <td>66.903807</td>\n",
              "      <td>42.546294</td>\n",
              "      <td>12.091332</td>\n",
              "      <td>16.992520</td>\n",
              "      <td>5.850632</td>\n",
              "      <td>16.982096</td>\n",
              "      <td>5.853594</td>\n",
              "      <td>998.516720</td>\n",
              "      <td>-349.783538</td>\n",
              "      <td>1247.440748</td>\n",
              "      <td>-400.264330</td>\n",
              "      <td>1248.207204</td>\n",
              "      <td>-401.074405</td>\n",
              "      <td>1199.770026</td>\n",
              "      <td>-400.790582</td>\n",
              "      <td>999.925519</td>\n",
              "      <td>-399.236999</td>\n",
              "      <td>950.320481</td>\n",
              "      <td>-400.864340</td>\n",
              "      <td>24.908732</td>\n",
              "      <td>-500.304035</td>\n",
              "      <td>14.996511</td>\n",
              "      <td>-500.993821</td>\n",
              "      <td>20.039689</td>\n",
              "      <td>-450.263164</td>\n",
              "      <td>14.077881</td>\n",
              "      <td>-449.660997</td>\n",
              "      <td>11.962366</td>\n",
              "      <td>-498.767484</td>\n",
              "      <td>8.096893</td>\n",
              "      <td>-500.827423</td>\n",
              "      <td>8.071056</td>\n",
              "      <td>-500.801673</td>\n",
              "      <td>4.905125</td>\n",
              "      <td>-499.828510</td>\n",
              "      <td>24.994862</td>\n",
              "      <td>-500.622559</td>\n",
              "    </tr>\n",
              "  </tbody>\n",
              "</table>\n",
              "</div>\n",
              "    <div class=\"colab-df-buttons\">\n",
              "\n",
              "  <div class=\"colab-df-container\">\n",
              "    <button class=\"colab-df-convert\" onclick=\"convertToInteractive('df-32b4f130-1b06-4683-861b-5c06fe12ba43')\"\n",
              "            title=\"Convert this dataframe to an interactive table.\"\n",
              "            style=\"display:none;\">\n",
              "\n",
              "  <svg xmlns=\"http://www.w3.org/2000/svg\" height=\"24px\" viewBox=\"0 -960 960 960\">\n",
              "    <path d=\"M120-120v-720h720v720H120Zm60-500h600v-160H180v160Zm220 220h160v-160H400v160Zm0 220h160v-160H400v160ZM180-400h160v-160H180v160Zm440 0h160v-160H620v160ZM180-180h160v-160H180v160Zm440 0h160v-160H620v160Z\"/>\n",
              "  </svg>\n",
              "    </button>\n",
              "\n",
              "  <style>\n",
              "    .colab-df-container {\n",
              "      display:flex;\n",
              "      gap: 12px;\n",
              "    }\n",
              "\n",
              "    .colab-df-convert {\n",
              "      background-color: #E8F0FE;\n",
              "      border: none;\n",
              "      border-radius: 50%;\n",
              "      cursor: pointer;\n",
              "      display: none;\n",
              "      fill: #1967D2;\n",
              "      height: 32px;\n",
              "      padding: 0 0 0 0;\n",
              "      width: 32px;\n",
              "    }\n",
              "\n",
              "    .colab-df-convert:hover {\n",
              "      background-color: #E2EBFA;\n",
              "      box-shadow: 0px 1px 2px rgba(60, 64, 67, 0.3), 0px 1px 3px 1px rgba(60, 64, 67, 0.15);\n",
              "      fill: #174EA6;\n",
              "    }\n",
              "\n",
              "    .colab-df-buttons div {\n",
              "      margin-bottom: 4px;\n",
              "    }\n",
              "\n",
              "    [theme=dark] .colab-df-convert {\n",
              "      background-color: #3B4455;\n",
              "      fill: #D2E3FC;\n",
              "    }\n",
              "\n",
              "    [theme=dark] .colab-df-convert:hover {\n",
              "      background-color: #434B5C;\n",
              "      box-shadow: 0px 1px 3px 1px rgba(0, 0, 0, 0.15);\n",
              "      filter: drop-shadow(0px 1px 2px rgba(0, 0, 0, 0.3));\n",
              "      fill: #FFFFFF;\n",
              "    }\n",
              "  </style>\n",
              "\n",
              "    <script>\n",
              "      const buttonEl =\n",
              "        document.querySelector('#df-32b4f130-1b06-4683-861b-5c06fe12ba43 button.colab-df-convert');\n",
              "      buttonEl.style.display =\n",
              "        google.colab.kernel.accessAllowed ? 'block' : 'none';\n",
              "\n",
              "      async function convertToInteractive(key) {\n",
              "        const element = document.querySelector('#df-32b4f130-1b06-4683-861b-5c06fe12ba43');\n",
              "        const dataTable =\n",
              "          await google.colab.kernel.invokeFunction('convertToInteractive',\n",
              "                                                    [key], {});\n",
              "        if (!dataTable) return;\n",
              "\n",
              "        const docLinkHtml = 'Like what you see? Visit the ' +\n",
              "          '<a target=\"_blank\" href=https://colab.research.google.com/notebooks/data_table.ipynb>data table notebook</a>'\n",
              "          + ' to learn more about interactive tables.';\n",
              "        element.innerHTML = '';\n",
              "        dataTable['output_type'] = 'display_data';\n",
              "        await google.colab.output.renderOutput(dataTable, element);\n",
              "        const docLink = document.createElement('div');\n",
              "        docLink.innerHTML = docLinkHtml;\n",
              "        element.appendChild(docLink);\n",
              "      }\n",
              "    </script>\n",
              "  </div>\n",
              "\n",
              "    </div>\n",
              "  </div>\n"
            ]
          },
          "metadata": {}
        },
        {
          "output_type": "stream",
          "name": "stdout",
          "text": [
            "\n",
            "Датасет full\n",
            "\n",
            "<class 'pandas.core.frame.DataFrame'>\n",
            "RangeIndex: 19439 entries, 0 to 19438\n",
            "Columns: 87 entries, date to secondary_cleaner.state.floatbank6_a_level\n",
            "dtypes: float64(86), object(1)\n",
            "memory usage: 12.9+ MB\n",
            "\n",
            "Пропуски\n",
            "\n",
            "secondary_cleaner.output.tail_sol           1748\n",
            "rougher.input.floatbank11_xanthate           453\n",
            "rougher.state.floatbank10_e_air              436\n",
            "primary_cleaner.output.concentrate_sol       370\n",
            "secondary_cleaner.state.floatbank2_a_air     220\n",
            "dtype: int64\n"
          ]
        },
        {
          "output_type": "display_data",
          "data": {
            "text/plain": [
              "                  date  final.output.concentrate_ag  \\\n",
              "0  2016-01-15 00:00:00                     6.055403   \n",
              "1  2016-01-15 01:00:00                     6.029369   \n",
              "2  2016-01-15 02:00:00                     6.055926   \n",
              "\n",
              "   final.output.concentrate_pb  final.output.concentrate_sol  \\\n",
              "0                     9.889648                      5.507324   \n",
              "1                     9.968944                      5.257781   \n",
              "2                    10.213995                      5.383759   \n",
              "\n",
              "   final.output.concentrate_au  final.output.recovery  final.output.tail_ag  \\\n",
              "0                    42.192020              70.541216             10.411962   \n",
              "1                    42.701629              69.266198             10.462676   \n",
              "2                    42.657501              68.116445             10.507046   \n",
              "\n",
              "   final.output.tail_pb  final.output.tail_sol  final.output.tail_au  \\\n",
              "0              0.895447              16.904297              2.143149   \n",
              "1              0.927452              16.634514              2.224930   \n",
              "2              0.953716              16.208849              2.257889   \n",
              "\n",
              "   primary_cleaner.input.sulfate  primary_cleaner.input.depressant  \\\n",
              "0                     127.092003                         10.128295   \n",
              "1                     125.629232                         10.296251   \n",
              "2                     123.819808                         11.316280   \n",
              "\n",
              "   primary_cleaner.input.feed_size  primary_cleaner.input.xanthate  \\\n",
              "0                             7.25                        0.988759   \n",
              "1                             7.25                        1.002663   \n",
              "2                             7.25                        0.991265   \n",
              "\n",
              "   primary_cleaner.output.concentrate_ag  \\\n",
              "0                               8.547551   \n",
              "1                               8.558743   \n",
              "2                               8.603505   \n",
              "\n",
              "   primary_cleaner.output.concentrate_pb  \\\n",
              "0                              10.389648   \n",
              "1                              10.497069   \n",
              "2                              10.354494   \n",
              "\n",
              "   primary_cleaner.output.concentrate_sol  \\\n",
              "0                               19.529297   \n",
              "1                               19.369147   \n",
              "2                               19.167579   \n",
              "\n",
              "   primary_cleaner.output.concentrate_au  primary_cleaner.output.tail_ag  \\\n",
              "0                              34.174427                       14.936526   \n",
              "1                              34.118526                       16.250511   \n",
              "2                              33.969464                       16.491823   \n",
              "\n",
              "   primary_cleaner.output.tail_pb  primary_cleaner.output.tail_sol  \\\n",
              "0                        2.534912                         7.476074   \n",
              "1                        3.049646                         6.733907   \n",
              "2                        3.124664                         6.471768   \n",
              "\n",
              "   primary_cleaner.output.tail_au  primary_cleaner.state.floatbank8_a_air  \\\n",
              "0                        2.106679                             1549.775757   \n",
              "1                        2.353017                             1576.166671   \n",
              "2                        2.416800                             1601.556163   \n",
              "\n",
              "   primary_cleaner.state.floatbank8_a_level  \\\n",
              "0                               -498.912140   \n",
              "1                               -500.904965   \n",
              "2                               -499.997791   \n",
              "\n",
              "   primary_cleaner.state.floatbank8_b_air  \\\n",
              "0                             1551.434204   \n",
              "1                             1575.950626   \n",
              "2                             1600.386685   \n",
              "\n",
              "   primary_cleaner.state.floatbank8_b_level  \\\n",
              "0                               -516.403442   \n",
              "1                               -499.865889   \n",
              "2                               -500.607762   \n",
              "\n",
              "   primary_cleaner.state.floatbank8_c_air  \\\n",
              "0                             1549.873901   \n",
              "1                             1575.994189   \n",
              "2                             1602.003542   \n",
              "\n",
              "   primary_cleaner.state.floatbank8_c_level  \\\n",
              "0                               -498.666595   \n",
              "1                               -499.315107   \n",
              "2                               -500.870069   \n",
              "\n",
              "   primary_cleaner.state.floatbank8_d_air  \\\n",
              "0                             1554.367432   \n",
              "1                             1574.479259   \n",
              "2                             1599.541515   \n",
              "\n",
              "   primary_cleaner.state.floatbank8_d_level  \\\n",
              "0                               -493.428131   \n",
              "1                               -498.931665   \n",
              "2                               -499.827444   \n",
              "\n",
              "   rougher.calculation.sulfate_to_au_concentrate  \\\n",
              "0                                   41885.707031   \n",
              "1                                   42050.861809   \n",
              "2                                   42018.101184   \n",
              "\n",
              "   rougher.calculation.floatbank10_sulfate_to_au_feed  \\\n",
              "0                                        3481.779053    \n",
              "1                                        3498.370979    \n",
              "2                                        3495.348910    \n",
              "\n",
              "   rougher.calculation.floatbank11_sulfate_to_au_feed  \\\n",
              "0                                        3520.337158    \n",
              "1                                        3489.981857    \n",
              "2                                        3502.359819    \n",
              "\n",
              "   rougher.calculation.au_pb_ratio  rougher.input.feed_ag  \\\n",
              "0                         2.838687               6.100378   \n",
              "1                         2.858998               6.161113   \n",
              "2                         2.945989               6.116455   \n",
              "\n",
              "   rougher.input.feed_pb  rougher.input.feed_rate  rougher.input.feed_size  \\\n",
              "0               2.284912               523.546326                55.486599   \n",
              "1               2.266033               525.290581                57.278666   \n",
              "2               2.159622               530.026610                57.510649   \n",
              "\n",
              "   rougher.input.feed_sol  rougher.input.feed_au  \\\n",
              "0               36.808594               6.486150   \n",
              "1               35.753385               6.478583   \n",
              "2               35.971630               6.362222   \n",
              "\n",
              "   rougher.input.floatbank10_sulfate  rougher.input.floatbank10_xanthate  \\\n",
              "0                          11.986616                            6.007990   \n",
              "1                          11.971193                            6.005766   \n",
              "2                          11.920603                            6.197377   \n",
              "\n",
              "   rougher.input.floatbank11_sulfate  rougher.input.floatbank11_xanthate  \\\n",
              "0                          11.836743                            6.005818   \n",
              "1                          11.996163                            6.012594   \n",
              "2                          11.920305                            6.204633   \n",
              "\n",
              "   rougher.output.concentrate_ag  rougher.output.concentrate_pb  \\\n",
              "0                      11.500771                       7.101074   \n",
              "1                      11.615865                       7.278807   \n",
              "2                      11.695753                       7.216833   \n",
              "\n",
              "   rougher.output.concentrate_sol  rougher.output.concentrate_au  \\\n",
              "0                       28.029297                      19.793808   \n",
              "1                       28.067063                      20.050975   \n",
              "2                       27.454037                      19.737170   \n",
              "\n",
              "   rougher.output.recovery  rougher.output.tail_ag  rougher.output.tail_pb  \\\n",
              "0                87.107763                5.008018                0.508728   \n",
              "1                86.843261                4.955378                0.536689   \n",
              "2                86.842308                4.843460                0.546416   \n",
              "\n",
              "   rougher.output.tail_sol  rougher.output.tail_au  \\\n",
              "0                19.154297                1.170244   \n",
              "1                18.965234                1.184827   \n",
              "2                18.808533                1.162562   \n",
              "\n",
              "   rougher.state.floatbank10_a_air  rougher.state.floatbank10_a_level  \\\n",
              "0                       999.706909                        -404.066986   \n",
              "1                      1000.286398                        -400.065196   \n",
              "2                       999.719565                        -400.074028   \n",
              "\n",
              "   rougher.state.floatbank10_b_air  rougher.state.floatbank10_b_level  \\\n",
              "0                      1603.011353                        -434.715027   \n",
              "1                      1600.754587                        -449.953435   \n",
              "2                      1599.337330                        -450.008530   \n",
              "\n",
              "   rougher.state.floatbank10_c_air  rougher.state.floatbank10_c_level  \\\n",
              "0                      1602.375000                        -442.204468   \n",
              "1                      1600.479580                        -449.830646   \n",
              "2                      1599.672797                        -449.954491   \n",
              "\n",
              "   rougher.state.floatbank10_d_air  rougher.state.floatbank10_d_level  \\\n",
              "0                      1598.937256                        -451.294128   \n",
              "1                      1600.527589                        -449.953649   \n",
              "2                      1599.849325                        -449.954185   \n",
              "\n",
              "   rougher.state.floatbank10_e_air  rougher.state.floatbank10_e_level  \\\n",
              "0                      1404.472046                        -455.462982   \n",
              "1                      1399.227084                        -450.869848   \n",
              "2                      1399.180945                        -449.937588   \n",
              "\n",
              "   rougher.state.floatbank10_f_air  rougher.state.floatbank10_f_level  \\\n",
              "0                      1416.354980                        -451.939636   \n",
              "1                      1399.719514                        -450.119001   \n",
              "2                      1400.316682                        -450.527147   \n",
              "\n",
              "   secondary_cleaner.output.tail_ag  secondary_cleaner.output.tail_pb  \\\n",
              "0                         14.500184                          4.694824   \n",
              "1                         14.265474                          4.592547   \n",
              "2                         14.115662                          4.624775   \n",
              "\n",
              "   secondary_cleaner.output.tail_sol  secondary_cleaner.output.tail_au  \\\n",
              "0                           8.764648                          2.606185   \n",
              "1                           9.001494                          2.488248   \n",
              "2                           8.842896                          2.458187   \n",
              "\n",
              "   secondary_cleaner.state.floatbank2_a_air  \\\n",
              "0                                 25.853109   \n",
              "1                                 25.880539   \n",
              "2                                 26.005245   \n",
              "\n",
              "   secondary_cleaner.state.floatbank2_a_level  \\\n",
              "0                                 -498.526489   \n",
              "1                                 -499.989656   \n",
              "2                                 -499.929616   \n",
              "\n",
              "   secondary_cleaner.state.floatbank2_b_air  \\\n",
              "0                                 23.893660   \n",
              "1                                 23.889530   \n",
              "2                                 23.886657   \n",
              "\n",
              "   secondary_cleaner.state.floatbank2_b_level  \\\n",
              "0                                 -501.406281   \n",
              "1                                 -500.372428   \n",
              "2                                 -499.951928   \n",
              "\n",
              "   secondary_cleaner.state.floatbank3_a_air  \\\n",
              "0                                 23.961798   \n",
              "1                                 23.970550   \n",
              "2                                 23.913535   \n",
              "\n",
              "   secondary_cleaner.state.floatbank3_a_level  \\\n",
              "0                                 -495.262817   \n",
              "1                                 -500.085473   \n",
              "2                                 -499.442343   \n",
              "\n",
              "   secondary_cleaner.state.floatbank3_b_air  \\\n",
              "0                                 21.940409   \n",
              "1                                 22.085714   \n",
              "2                                 23.957717   \n",
              "\n",
              "   secondary_cleaner.state.floatbank3_b_level  \\\n",
              "0                                 -499.340973   \n",
              "1                                 -499.446897   \n",
              "2                                 -499.901982   \n",
              "\n",
              "   secondary_cleaner.state.floatbank4_a_air  \\\n",
              "0                                 14.016835   \n",
              "1                                 13.992281   \n",
              "2                                 14.015015   \n",
              "\n",
              "   secondary_cleaner.state.floatbank4_a_level  \\\n",
              "0                                 -502.488007   \n",
              "1                                 -505.503262   \n",
              "2                                 -502.520901   \n",
              "\n",
              "   secondary_cleaner.state.floatbank4_b_air  \\\n",
              "0                                 12.099931   \n",
              "1                                 11.950531   \n",
              "2                                 11.912783   \n",
              "\n",
              "   secondary_cleaner.state.floatbank4_b_level  \\\n",
              "0                                 -504.715942   \n",
              "1                                 -501.331529   \n",
              "2                                 -501.133383   \n",
              "\n",
              "   secondary_cleaner.state.floatbank5_a_air  \\\n",
              "0                                  9.925633   \n",
              "1                                 10.039245   \n",
              "2                                 10.070913   \n",
              "\n",
              "   secondary_cleaner.state.floatbank5_a_level  \\\n",
              "0                                 -498.310211   \n",
              "1                                 -500.169983   \n",
              "2                                 -500.129135   \n",
              "\n",
              "   secondary_cleaner.state.floatbank5_b_air  \\\n",
              "0                                  8.079666   \n",
              "1                                  7.984757   \n",
              "2                                  8.013877   \n",
              "\n",
              "   secondary_cleaner.state.floatbank5_b_level  \\\n",
              "0                                 -500.470978   \n",
              "1                                 -500.582168   \n",
              "2                                 -500.517572   \n",
              "\n",
              "   secondary_cleaner.state.floatbank6_a_air  \\\n",
              "0                                 14.151341   \n",
              "1                                 13.998353   \n",
              "2                                 14.028663   \n",
              "\n",
              "   secondary_cleaner.state.floatbank6_a_level  \n",
              "0                                 -605.841980  \n",
              "1                                 -599.787184  \n",
              "2                                 -601.427363  "
            ],
            "text/html": [
              "\n",
              "  <div id=\"df-f88885da-d177-4c8f-b387-7ad258c6fd96\" class=\"colab-df-container\">\n",
              "    <div>\n",
              "<style scoped>\n",
              "    .dataframe tbody tr th:only-of-type {\n",
              "        vertical-align: middle;\n",
              "    }\n",
              "\n",
              "    .dataframe tbody tr th {\n",
              "        vertical-align: top;\n",
              "    }\n",
              "\n",
              "    .dataframe thead th {\n",
              "        text-align: right;\n",
              "    }\n",
              "</style>\n",
              "<table border=\"1\" class=\"dataframe\">\n",
              "  <thead>\n",
              "    <tr style=\"text-align: right;\">\n",
              "      <th></th>\n",
              "      <th>date</th>\n",
              "      <th>final.output.concentrate_ag</th>\n",
              "      <th>final.output.concentrate_pb</th>\n",
              "      <th>final.output.concentrate_sol</th>\n",
              "      <th>final.output.concentrate_au</th>\n",
              "      <th>final.output.recovery</th>\n",
              "      <th>final.output.tail_ag</th>\n",
              "      <th>final.output.tail_pb</th>\n",
              "      <th>final.output.tail_sol</th>\n",
              "      <th>final.output.tail_au</th>\n",
              "      <th>primary_cleaner.input.sulfate</th>\n",
              "      <th>primary_cleaner.input.depressant</th>\n",
              "      <th>primary_cleaner.input.feed_size</th>\n",
              "      <th>primary_cleaner.input.xanthate</th>\n",
              "      <th>primary_cleaner.output.concentrate_ag</th>\n",
              "      <th>primary_cleaner.output.concentrate_pb</th>\n",
              "      <th>primary_cleaner.output.concentrate_sol</th>\n",
              "      <th>primary_cleaner.output.concentrate_au</th>\n",
              "      <th>primary_cleaner.output.tail_ag</th>\n",
              "      <th>primary_cleaner.output.tail_pb</th>\n",
              "      <th>primary_cleaner.output.tail_sol</th>\n",
              "      <th>primary_cleaner.output.tail_au</th>\n",
              "      <th>primary_cleaner.state.floatbank8_a_air</th>\n",
              "      <th>primary_cleaner.state.floatbank8_a_level</th>\n",
              "      <th>primary_cleaner.state.floatbank8_b_air</th>\n",
              "      <th>primary_cleaner.state.floatbank8_b_level</th>\n",
              "      <th>primary_cleaner.state.floatbank8_c_air</th>\n",
              "      <th>primary_cleaner.state.floatbank8_c_level</th>\n",
              "      <th>primary_cleaner.state.floatbank8_d_air</th>\n",
              "      <th>primary_cleaner.state.floatbank8_d_level</th>\n",
              "      <th>rougher.calculation.sulfate_to_au_concentrate</th>\n",
              "      <th>rougher.calculation.floatbank10_sulfate_to_au_feed</th>\n",
              "      <th>rougher.calculation.floatbank11_sulfate_to_au_feed</th>\n",
              "      <th>rougher.calculation.au_pb_ratio</th>\n",
              "      <th>rougher.input.feed_ag</th>\n",
              "      <th>rougher.input.feed_pb</th>\n",
              "      <th>rougher.input.feed_rate</th>\n",
              "      <th>rougher.input.feed_size</th>\n",
              "      <th>rougher.input.feed_sol</th>\n",
              "      <th>rougher.input.feed_au</th>\n",
              "      <th>rougher.input.floatbank10_sulfate</th>\n",
              "      <th>rougher.input.floatbank10_xanthate</th>\n",
              "      <th>rougher.input.floatbank11_sulfate</th>\n",
              "      <th>rougher.input.floatbank11_xanthate</th>\n",
              "      <th>rougher.output.concentrate_ag</th>\n",
              "      <th>rougher.output.concentrate_pb</th>\n",
              "      <th>rougher.output.concentrate_sol</th>\n",
              "      <th>rougher.output.concentrate_au</th>\n",
              "      <th>rougher.output.recovery</th>\n",
              "      <th>rougher.output.tail_ag</th>\n",
              "      <th>rougher.output.tail_pb</th>\n",
              "      <th>rougher.output.tail_sol</th>\n",
              "      <th>rougher.output.tail_au</th>\n",
              "      <th>rougher.state.floatbank10_a_air</th>\n",
              "      <th>rougher.state.floatbank10_a_level</th>\n",
              "      <th>rougher.state.floatbank10_b_air</th>\n",
              "      <th>rougher.state.floatbank10_b_level</th>\n",
              "      <th>rougher.state.floatbank10_c_air</th>\n",
              "      <th>rougher.state.floatbank10_c_level</th>\n",
              "      <th>rougher.state.floatbank10_d_air</th>\n",
              "      <th>rougher.state.floatbank10_d_level</th>\n",
              "      <th>rougher.state.floatbank10_e_air</th>\n",
              "      <th>rougher.state.floatbank10_e_level</th>\n",
              "      <th>rougher.state.floatbank10_f_air</th>\n",
              "      <th>rougher.state.floatbank10_f_level</th>\n",
              "      <th>secondary_cleaner.output.tail_ag</th>\n",
              "      <th>secondary_cleaner.output.tail_pb</th>\n",
              "      <th>secondary_cleaner.output.tail_sol</th>\n",
              "      <th>secondary_cleaner.output.tail_au</th>\n",
              "      <th>secondary_cleaner.state.floatbank2_a_air</th>\n",
              "      <th>secondary_cleaner.state.floatbank2_a_level</th>\n",
              "      <th>secondary_cleaner.state.floatbank2_b_air</th>\n",
              "      <th>secondary_cleaner.state.floatbank2_b_level</th>\n",
              "      <th>secondary_cleaner.state.floatbank3_a_air</th>\n",
              "      <th>secondary_cleaner.state.floatbank3_a_level</th>\n",
              "      <th>secondary_cleaner.state.floatbank3_b_air</th>\n",
              "      <th>secondary_cleaner.state.floatbank3_b_level</th>\n",
              "      <th>secondary_cleaner.state.floatbank4_a_air</th>\n",
              "      <th>secondary_cleaner.state.floatbank4_a_level</th>\n",
              "      <th>secondary_cleaner.state.floatbank4_b_air</th>\n",
              "      <th>secondary_cleaner.state.floatbank4_b_level</th>\n",
              "      <th>secondary_cleaner.state.floatbank5_a_air</th>\n",
              "      <th>secondary_cleaner.state.floatbank5_a_level</th>\n",
              "      <th>secondary_cleaner.state.floatbank5_b_air</th>\n",
              "      <th>secondary_cleaner.state.floatbank5_b_level</th>\n",
              "      <th>secondary_cleaner.state.floatbank6_a_air</th>\n",
              "      <th>secondary_cleaner.state.floatbank6_a_level</th>\n",
              "    </tr>\n",
              "  </thead>\n",
              "  <tbody>\n",
              "    <tr>\n",
              "      <th>0</th>\n",
              "      <td>2016-01-15 00:00:00</td>\n",
              "      <td>6.055403</td>\n",
              "      <td>9.889648</td>\n",
              "      <td>5.507324</td>\n",
              "      <td>42.192020</td>\n",
              "      <td>70.541216</td>\n",
              "      <td>10.411962</td>\n",
              "      <td>0.895447</td>\n",
              "      <td>16.904297</td>\n",
              "      <td>2.143149</td>\n",
              "      <td>127.092003</td>\n",
              "      <td>10.128295</td>\n",
              "      <td>7.25</td>\n",
              "      <td>0.988759</td>\n",
              "      <td>8.547551</td>\n",
              "      <td>10.389648</td>\n",
              "      <td>19.529297</td>\n",
              "      <td>34.174427</td>\n",
              "      <td>14.936526</td>\n",
              "      <td>2.534912</td>\n",
              "      <td>7.476074</td>\n",
              "      <td>2.106679</td>\n",
              "      <td>1549.775757</td>\n",
              "      <td>-498.912140</td>\n",
              "      <td>1551.434204</td>\n",
              "      <td>-516.403442</td>\n",
              "      <td>1549.873901</td>\n",
              "      <td>-498.666595</td>\n",
              "      <td>1554.367432</td>\n",
              "      <td>-493.428131</td>\n",
              "      <td>41885.707031</td>\n",
              "      <td>3481.779053</td>\n",
              "      <td>3520.337158</td>\n",
              "      <td>2.838687</td>\n",
              "      <td>6.100378</td>\n",
              "      <td>2.284912</td>\n",
              "      <td>523.546326</td>\n",
              "      <td>55.486599</td>\n",
              "      <td>36.808594</td>\n",
              "      <td>6.486150</td>\n",
              "      <td>11.986616</td>\n",
              "      <td>6.007990</td>\n",
              "      <td>11.836743</td>\n",
              "      <td>6.005818</td>\n",
              "      <td>11.500771</td>\n",
              "      <td>7.101074</td>\n",
              "      <td>28.029297</td>\n",
              "      <td>19.793808</td>\n",
              "      <td>87.107763</td>\n",
              "      <td>5.008018</td>\n",
              "      <td>0.508728</td>\n",
              "      <td>19.154297</td>\n",
              "      <td>1.170244</td>\n",
              "      <td>999.706909</td>\n",
              "      <td>-404.066986</td>\n",
              "      <td>1603.011353</td>\n",
              "      <td>-434.715027</td>\n",
              "      <td>1602.375000</td>\n",
              "      <td>-442.204468</td>\n",
              "      <td>1598.937256</td>\n",
              "      <td>-451.294128</td>\n",
              "      <td>1404.472046</td>\n",
              "      <td>-455.462982</td>\n",
              "      <td>1416.354980</td>\n",
              "      <td>-451.939636</td>\n",
              "      <td>14.500184</td>\n",
              "      <td>4.694824</td>\n",
              "      <td>8.764648</td>\n",
              "      <td>2.606185</td>\n",
              "      <td>25.853109</td>\n",
              "      <td>-498.526489</td>\n",
              "      <td>23.893660</td>\n",
              "      <td>-501.406281</td>\n",
              "      <td>23.961798</td>\n",
              "      <td>-495.262817</td>\n",
              "      <td>21.940409</td>\n",
              "      <td>-499.340973</td>\n",
              "      <td>14.016835</td>\n",
              "      <td>-502.488007</td>\n",
              "      <td>12.099931</td>\n",
              "      <td>-504.715942</td>\n",
              "      <td>9.925633</td>\n",
              "      <td>-498.310211</td>\n",
              "      <td>8.079666</td>\n",
              "      <td>-500.470978</td>\n",
              "      <td>14.151341</td>\n",
              "      <td>-605.841980</td>\n",
              "    </tr>\n",
              "    <tr>\n",
              "      <th>1</th>\n",
              "      <td>2016-01-15 01:00:00</td>\n",
              "      <td>6.029369</td>\n",
              "      <td>9.968944</td>\n",
              "      <td>5.257781</td>\n",
              "      <td>42.701629</td>\n",
              "      <td>69.266198</td>\n",
              "      <td>10.462676</td>\n",
              "      <td>0.927452</td>\n",
              "      <td>16.634514</td>\n",
              "      <td>2.224930</td>\n",
              "      <td>125.629232</td>\n",
              "      <td>10.296251</td>\n",
              "      <td>7.25</td>\n",
              "      <td>1.002663</td>\n",
              "      <td>8.558743</td>\n",
              "      <td>10.497069</td>\n",
              "      <td>19.369147</td>\n",
              "      <td>34.118526</td>\n",
              "      <td>16.250511</td>\n",
              "      <td>3.049646</td>\n",
              "      <td>6.733907</td>\n",
              "      <td>2.353017</td>\n",
              "      <td>1576.166671</td>\n",
              "      <td>-500.904965</td>\n",
              "      <td>1575.950626</td>\n",
              "      <td>-499.865889</td>\n",
              "      <td>1575.994189</td>\n",
              "      <td>-499.315107</td>\n",
              "      <td>1574.479259</td>\n",
              "      <td>-498.931665</td>\n",
              "      <td>42050.861809</td>\n",
              "      <td>3498.370979</td>\n",
              "      <td>3489.981857</td>\n",
              "      <td>2.858998</td>\n",
              "      <td>6.161113</td>\n",
              "      <td>2.266033</td>\n",
              "      <td>525.290581</td>\n",
              "      <td>57.278666</td>\n",
              "      <td>35.753385</td>\n",
              "      <td>6.478583</td>\n",
              "      <td>11.971193</td>\n",
              "      <td>6.005766</td>\n",
              "      <td>11.996163</td>\n",
              "      <td>6.012594</td>\n",
              "      <td>11.615865</td>\n",
              "      <td>7.278807</td>\n",
              "      <td>28.067063</td>\n",
              "      <td>20.050975</td>\n",
              "      <td>86.843261</td>\n",
              "      <td>4.955378</td>\n",
              "      <td>0.536689</td>\n",
              "      <td>18.965234</td>\n",
              "      <td>1.184827</td>\n",
              "      <td>1000.286398</td>\n",
              "      <td>-400.065196</td>\n",
              "      <td>1600.754587</td>\n",
              "      <td>-449.953435</td>\n",
              "      <td>1600.479580</td>\n",
              "      <td>-449.830646</td>\n",
              "      <td>1600.527589</td>\n",
              "      <td>-449.953649</td>\n",
              "      <td>1399.227084</td>\n",
              "      <td>-450.869848</td>\n",
              "      <td>1399.719514</td>\n",
              "      <td>-450.119001</td>\n",
              "      <td>14.265474</td>\n",
              "      <td>4.592547</td>\n",
              "      <td>9.001494</td>\n",
              "      <td>2.488248</td>\n",
              "      <td>25.880539</td>\n",
              "      <td>-499.989656</td>\n",
              "      <td>23.889530</td>\n",
              "      <td>-500.372428</td>\n",
              "      <td>23.970550</td>\n",
              "      <td>-500.085473</td>\n",
              "      <td>22.085714</td>\n",
              "      <td>-499.446897</td>\n",
              "      <td>13.992281</td>\n",
              "      <td>-505.503262</td>\n",
              "      <td>11.950531</td>\n",
              "      <td>-501.331529</td>\n",
              "      <td>10.039245</td>\n",
              "      <td>-500.169983</td>\n",
              "      <td>7.984757</td>\n",
              "      <td>-500.582168</td>\n",
              "      <td>13.998353</td>\n",
              "      <td>-599.787184</td>\n",
              "    </tr>\n",
              "    <tr>\n",
              "      <th>2</th>\n",
              "      <td>2016-01-15 02:00:00</td>\n",
              "      <td>6.055926</td>\n",
              "      <td>10.213995</td>\n",
              "      <td>5.383759</td>\n",
              "      <td>42.657501</td>\n",
              "      <td>68.116445</td>\n",
              "      <td>10.507046</td>\n",
              "      <td>0.953716</td>\n",
              "      <td>16.208849</td>\n",
              "      <td>2.257889</td>\n",
              "      <td>123.819808</td>\n",
              "      <td>11.316280</td>\n",
              "      <td>7.25</td>\n",
              "      <td>0.991265</td>\n",
              "      <td>8.603505</td>\n",
              "      <td>10.354494</td>\n",
              "      <td>19.167579</td>\n",
              "      <td>33.969464</td>\n",
              "      <td>16.491823</td>\n",
              "      <td>3.124664</td>\n",
              "      <td>6.471768</td>\n",
              "      <td>2.416800</td>\n",
              "      <td>1601.556163</td>\n",
              "      <td>-499.997791</td>\n",
              "      <td>1600.386685</td>\n",
              "      <td>-500.607762</td>\n",
              "      <td>1602.003542</td>\n",
              "      <td>-500.870069</td>\n",
              "      <td>1599.541515</td>\n",
              "      <td>-499.827444</td>\n",
              "      <td>42018.101184</td>\n",
              "      <td>3495.348910</td>\n",
              "      <td>3502.359819</td>\n",
              "      <td>2.945989</td>\n",
              "      <td>6.116455</td>\n",
              "      <td>2.159622</td>\n",
              "      <td>530.026610</td>\n",
              "      <td>57.510649</td>\n",
              "      <td>35.971630</td>\n",
              "      <td>6.362222</td>\n",
              "      <td>11.920603</td>\n",
              "      <td>6.197377</td>\n",
              "      <td>11.920305</td>\n",
              "      <td>6.204633</td>\n",
              "      <td>11.695753</td>\n",
              "      <td>7.216833</td>\n",
              "      <td>27.454037</td>\n",
              "      <td>19.737170</td>\n",
              "      <td>86.842308</td>\n",
              "      <td>4.843460</td>\n",
              "      <td>0.546416</td>\n",
              "      <td>18.808533</td>\n",
              "      <td>1.162562</td>\n",
              "      <td>999.719565</td>\n",
              "      <td>-400.074028</td>\n",
              "      <td>1599.337330</td>\n",
              "      <td>-450.008530</td>\n",
              "      <td>1599.672797</td>\n",
              "      <td>-449.954491</td>\n",
              "      <td>1599.849325</td>\n",
              "      <td>-449.954185</td>\n",
              "      <td>1399.180945</td>\n",
              "      <td>-449.937588</td>\n",
              "      <td>1400.316682</td>\n",
              "      <td>-450.527147</td>\n",
              "      <td>14.115662</td>\n",
              "      <td>4.624775</td>\n",
              "      <td>8.842896</td>\n",
              "      <td>2.458187</td>\n",
              "      <td>26.005245</td>\n",
              "      <td>-499.929616</td>\n",
              "      <td>23.886657</td>\n",
              "      <td>-499.951928</td>\n",
              "      <td>23.913535</td>\n",
              "      <td>-499.442343</td>\n",
              "      <td>23.957717</td>\n",
              "      <td>-499.901982</td>\n",
              "      <td>14.015015</td>\n",
              "      <td>-502.520901</td>\n",
              "      <td>11.912783</td>\n",
              "      <td>-501.133383</td>\n",
              "      <td>10.070913</td>\n",
              "      <td>-500.129135</td>\n",
              "      <td>8.013877</td>\n",
              "      <td>-500.517572</td>\n",
              "      <td>14.028663</td>\n",
              "      <td>-601.427363</td>\n",
              "    </tr>\n",
              "  </tbody>\n",
              "</table>\n",
              "</div>\n",
              "    <div class=\"colab-df-buttons\">\n",
              "\n",
              "  <div class=\"colab-df-container\">\n",
              "    <button class=\"colab-df-convert\" onclick=\"convertToInteractive('df-f88885da-d177-4c8f-b387-7ad258c6fd96')\"\n",
              "            title=\"Convert this dataframe to an interactive table.\"\n",
              "            style=\"display:none;\">\n",
              "\n",
              "  <svg xmlns=\"http://www.w3.org/2000/svg\" height=\"24px\" viewBox=\"0 -960 960 960\">\n",
              "    <path d=\"M120-120v-720h720v720H120Zm60-500h600v-160H180v160Zm220 220h160v-160H400v160Zm0 220h160v-160H400v160ZM180-400h160v-160H180v160Zm440 0h160v-160H620v160ZM180-180h160v-160H180v160Zm440 0h160v-160H620v160Z\"/>\n",
              "  </svg>\n",
              "    </button>\n",
              "\n",
              "  <style>\n",
              "    .colab-df-container {\n",
              "      display:flex;\n",
              "      gap: 12px;\n",
              "    }\n",
              "\n",
              "    .colab-df-convert {\n",
              "      background-color: #E8F0FE;\n",
              "      border: none;\n",
              "      border-radius: 50%;\n",
              "      cursor: pointer;\n",
              "      display: none;\n",
              "      fill: #1967D2;\n",
              "      height: 32px;\n",
              "      padding: 0 0 0 0;\n",
              "      width: 32px;\n",
              "    }\n",
              "\n",
              "    .colab-df-convert:hover {\n",
              "      background-color: #E2EBFA;\n",
              "      box-shadow: 0px 1px 2px rgba(60, 64, 67, 0.3), 0px 1px 3px 1px rgba(60, 64, 67, 0.15);\n",
              "      fill: #174EA6;\n",
              "    }\n",
              "\n",
              "    .colab-df-buttons div {\n",
              "      margin-bottom: 4px;\n",
              "    }\n",
              "\n",
              "    [theme=dark] .colab-df-convert {\n",
              "      background-color: #3B4455;\n",
              "      fill: #D2E3FC;\n",
              "    }\n",
              "\n",
              "    [theme=dark] .colab-df-convert:hover {\n",
              "      background-color: #434B5C;\n",
              "      box-shadow: 0px 1px 3px 1px rgba(0, 0, 0, 0.15);\n",
              "      filter: drop-shadow(0px 1px 2px rgba(0, 0, 0, 0.3));\n",
              "      fill: #FFFFFF;\n",
              "    }\n",
              "  </style>\n",
              "\n",
              "    <script>\n",
              "      const buttonEl =\n",
              "        document.querySelector('#df-f88885da-d177-4c8f-b387-7ad258c6fd96 button.colab-df-convert');\n",
              "      buttonEl.style.display =\n",
              "        google.colab.kernel.accessAllowed ? 'block' : 'none';\n",
              "\n",
              "      async function convertToInteractive(key) {\n",
              "        const element = document.querySelector('#df-f88885da-d177-4c8f-b387-7ad258c6fd96');\n",
              "        const dataTable =\n",
              "          await google.colab.kernel.invokeFunction('convertToInteractive',\n",
              "                                                    [key], {});\n",
              "        if (!dataTable) return;\n",
              "\n",
              "        const docLinkHtml = 'Like what you see? Visit the ' +\n",
              "          '<a target=\"_blank\" href=https://colab.research.google.com/notebooks/data_table.ipynb>data table notebook</a>'\n",
              "          + ' to learn more about interactive tables.';\n",
              "        element.innerHTML = '';\n",
              "        dataTable['output_type'] = 'display_data';\n",
              "        await google.colab.output.renderOutput(dataTable, element);\n",
              "        const docLink = document.createElement('div');\n",
              "        docLink.innerHTML = docLinkHtml;\n",
              "        element.appendChild(docLink);\n",
              "      }\n",
              "    </script>\n",
              "  </div>\n",
              "\n",
              "    </div>\n",
              "  </div>\n"
            ]
          },
          "metadata": {}
        },
        {
          "output_type": "stream",
          "name": "stdout",
          "text": [
            "\n",
            " Столбцы\n",
            "\n"
          ]
        },
        {
          "output_type": "execute_result",
          "data": {
            "text/plain": [
              "['date',\n",
              " 'final.output.concentrate_ag',\n",
              " 'final.output.concentrate_au',\n",
              " 'final.output.concentrate_pb',\n",
              " 'final.output.concentrate_sol',\n",
              " 'final.output.recovery',\n",
              " 'final.output.tail_ag',\n",
              " 'final.output.tail_au',\n",
              " 'final.output.tail_pb',\n",
              " 'final.output.tail_sol',\n",
              " 'primary_cleaner.input.depressant',\n",
              " 'primary_cleaner.input.feed_size',\n",
              " 'primary_cleaner.input.sulfate',\n",
              " 'primary_cleaner.input.xanthate',\n",
              " 'primary_cleaner.output.concentrate_ag',\n",
              " 'primary_cleaner.output.concentrate_au',\n",
              " 'primary_cleaner.output.concentrate_pb',\n",
              " 'primary_cleaner.output.concentrate_sol',\n",
              " 'primary_cleaner.output.tail_ag',\n",
              " 'primary_cleaner.output.tail_au',\n",
              " 'primary_cleaner.output.tail_pb',\n",
              " 'primary_cleaner.output.tail_sol',\n",
              " 'primary_cleaner.state.floatbank8_a_air',\n",
              " 'primary_cleaner.state.floatbank8_a_level',\n",
              " 'primary_cleaner.state.floatbank8_b_air',\n",
              " 'primary_cleaner.state.floatbank8_b_level',\n",
              " 'primary_cleaner.state.floatbank8_c_air',\n",
              " 'primary_cleaner.state.floatbank8_c_level',\n",
              " 'primary_cleaner.state.floatbank8_d_air',\n",
              " 'primary_cleaner.state.floatbank8_d_level',\n",
              " 'rougher.calculation.au_pb_ratio',\n",
              " 'rougher.calculation.floatbank10_sulfate_to_au_feed',\n",
              " 'rougher.calculation.floatbank11_sulfate_to_au_feed',\n",
              " 'rougher.calculation.sulfate_to_au_concentrate',\n",
              " 'rougher.input.feed_ag',\n",
              " 'rougher.input.feed_au',\n",
              " 'rougher.input.feed_pb',\n",
              " 'rougher.input.feed_rate',\n",
              " 'rougher.input.feed_size',\n",
              " 'rougher.input.feed_sol',\n",
              " 'rougher.input.floatbank10_sulfate',\n",
              " 'rougher.input.floatbank10_xanthate',\n",
              " 'rougher.input.floatbank11_sulfate',\n",
              " 'rougher.input.floatbank11_xanthate',\n",
              " 'rougher.output.concentrate_ag',\n",
              " 'rougher.output.concentrate_au',\n",
              " 'rougher.output.concentrate_pb',\n",
              " 'rougher.output.concentrate_sol',\n",
              " 'rougher.output.recovery',\n",
              " 'rougher.output.tail_ag',\n",
              " 'rougher.output.tail_au',\n",
              " 'rougher.output.tail_pb',\n",
              " 'rougher.output.tail_sol',\n",
              " 'rougher.state.floatbank10_a_air',\n",
              " 'rougher.state.floatbank10_a_level',\n",
              " 'rougher.state.floatbank10_b_air',\n",
              " 'rougher.state.floatbank10_b_level',\n",
              " 'rougher.state.floatbank10_c_air',\n",
              " 'rougher.state.floatbank10_c_level',\n",
              " 'rougher.state.floatbank10_d_air',\n",
              " 'rougher.state.floatbank10_d_level',\n",
              " 'rougher.state.floatbank10_e_air',\n",
              " 'rougher.state.floatbank10_e_level',\n",
              " 'rougher.state.floatbank10_f_air',\n",
              " 'rougher.state.floatbank10_f_level',\n",
              " 'secondary_cleaner.output.tail_ag',\n",
              " 'secondary_cleaner.output.tail_au',\n",
              " 'secondary_cleaner.output.tail_pb',\n",
              " 'secondary_cleaner.output.tail_sol',\n",
              " 'secondary_cleaner.state.floatbank2_a_air',\n",
              " 'secondary_cleaner.state.floatbank2_a_level',\n",
              " 'secondary_cleaner.state.floatbank2_b_air',\n",
              " 'secondary_cleaner.state.floatbank2_b_level',\n",
              " 'secondary_cleaner.state.floatbank3_a_air',\n",
              " 'secondary_cleaner.state.floatbank3_a_level',\n",
              " 'secondary_cleaner.state.floatbank3_b_air',\n",
              " 'secondary_cleaner.state.floatbank3_b_level',\n",
              " 'secondary_cleaner.state.floatbank4_a_air',\n",
              " 'secondary_cleaner.state.floatbank4_a_level',\n",
              " 'secondary_cleaner.state.floatbank4_b_air',\n",
              " 'secondary_cleaner.state.floatbank4_b_level',\n",
              " 'secondary_cleaner.state.floatbank5_a_air',\n",
              " 'secondary_cleaner.state.floatbank5_a_level',\n",
              " 'secondary_cleaner.state.floatbank5_b_air',\n",
              " 'secondary_cleaner.state.floatbank5_b_level',\n",
              " 'secondary_cleaner.state.floatbank6_a_air',\n",
              " 'secondary_cleaner.state.floatbank6_a_level']"
            ]
          },
          "metadata": {},
          "execution_count": 3
        }
      ],
      "source": [
        "for name in dfs:\n",
        "    print('\\nДатасет', name, end='\\n\\n')\n",
        "    dfs[name].info(verbose=False)\n",
        "    print('\\nПропуски', end='\\n\\n')\n",
        "    print(dfs[name].isna().sum().sort_values(ascending=False).head())\n",
        "    display(dfs[name].head(3))\n",
        "\n",
        "print('\\n Столбцы\\n')\n",
        "sorted(dfs['full'].columns)"
      ]
    },
    {
      "cell_type": "markdown",
      "metadata": {
        "id": "TOt0qTp3DXDx"
      },
      "source": [
        "Исходный датасет full разбит на train и test.  \n",
        "В данных присутствуют пропуски."
      ]
    },
    {
      "cell_type": "markdown",
      "metadata": {
        "id": "BY2uY3Ayy2ke"
      },
      "source": [
        "## Предобработка"
      ]
    },
    {
      "cell_type": "markdown",
      "source": [
        "Сохраним датасеты в переменные для удобства."
      ],
      "metadata": {
        "id": "QpSJn9HPL6WF"
      }
    },
    {
      "cell_type": "code",
      "source": [
        "df_train = dfs['train']\n",
        "df_test = dfs['test']\n",
        "df_full = dfs['full']"
      ],
      "metadata": {
        "id": "1JcaSd-wMCFn"
      },
      "execution_count": 4,
      "outputs": []
    },
    {
      "cell_type": "markdown",
      "metadata": {
        "id": "zb1hg5FV7-0W"
      },
      "source": [
        "### Аномальные значения"
      ]
    },
    {
      "cell_type": "markdown",
      "metadata": {
        "id": "8ZHnQXdTnJi4"
      },
      "source": [
        "Проверим наличие нулей в целевых показателях"
      ]
    },
    {
      "cell_type": "code",
      "execution_count": 5,
      "metadata": {
        "colab": {
          "base_uri": "https://localhost:8080/"
        },
        "id": "a-HJRkXim1Bc",
        "outputId": "03052061-6243-4f4e-d187-44fbe0ee3562"
      },
      "outputs": [
        {
          "output_type": "execute_result",
          "data": {
            "text/plain": [
              "(98, 394)"
            ]
          },
          "metadata": {},
          "execution_count": 5
        }
      ],
      "source": [
        "df_full[df_full['final.output.recovery'] == 0].shape[0], df_full[df_full['rougher.output.recovery'] == 0].shape[0]"
      ]
    },
    {
      "cell_type": "markdown",
      "metadata": {
        "id": "OQVFk900neTq"
      },
      "source": [
        "В формуле рассчета рекавери используется множитель концентрации после очистки, проверим эти значения."
      ]
    },
    {
      "cell_type": "code",
      "execution_count": 6,
      "metadata": {
        "colab": {
          "base_uri": "https://localhost:8080/"
        },
        "id": "XwJy1DslmVex",
        "outputId": "4d49c369-fc93-47c2-a29e-b076c6cb55e5"
      },
      "outputs": [
        {
          "output_type": "execute_result",
          "data": {
            "text/plain": [
              "(98, 394)"
            ]
          },
          "metadata": {},
          "execution_count": 6
        }
      ],
      "source": [
        "(((df_full['final.output.concentrate_au'] == 0) & (df_full['final.output.recovery'] == 0)).sum(),\n",
        "((df_full['rougher.output.concentrate_au'] == 0) & (df_full['rougher.output.recovery'] == 0)).sum())"
      ]
    },
    {
      "cell_type": "markdown",
      "metadata": {
        "id": "wvNtpQydI3Kb"
      },
      "source": [
        "Проверим также концентрацию золота после первой очистки"
      ]
    },
    {
      "cell_type": "code",
      "execution_count": 7,
      "metadata": {
        "colab": {
          "base_uri": "https://localhost:8080/"
        },
        "id": "MMhzEQPnI3Kb",
        "outputId": "067263e8-19e7-4380-f535-5cf821a9036e"
      },
      "outputs": [
        {
          "output_type": "execute_result",
          "data": {
            "text/plain": [
              "108"
            ]
          },
          "metadata": {},
          "execution_count": 7
        }
      ],
      "source": [
        "(df_full['primary_cleaner.output.concentrate_au'] == 0).sum()"
      ]
    },
    {
      "cell_type": "markdown",
      "metadata": {
        "id": "mJ221AxwpGIB"
      },
      "source": [
        "Концентрации не могут быть равны нулю во время нормального техпроцесса. Это либо нарушения техпроцесса, либо ошибки в записи. Для обучения моделей эти данные будут помехой, так как записей немного, то удалим их."
      ]
    },
    {
      "cell_type": "code",
      "execution_count": 8,
      "metadata": {
        "id": "BjJMmeayqnUT"
      },
      "outputs": [],
      "source": [
        "zeros = ((df_full['rougher.output.concentrate_au'] == 0) |\n",
        "         (df_full['final.output.concentrate_au'] == 0) |\n",
        "         (df_full['primary_cleaner.output.concentrate_au'] == 0))\n",
        "zeros_dates = df_full[zeros]['date']\n",
        "train_zeros = df_train['date'].isin(zeros_dates)\n",
        "test_zeros = df_test['date'].isin(zeros_dates)\n",
        "df_train = df_train[~train_zeros]\n",
        "df_test = df_test[~test_zeros]\n",
        "df_full = df_full[~zeros]"
      ]
    },
    {
      "cell_type": "markdown",
      "metadata": {
        "id": "044fi1Ts9kV-"
      },
      "source": [
        "Другие значения также не должны обращаться в нуль, заменим их пропусками."
      ]
    },
    {
      "cell_type": "code",
      "execution_count": 9,
      "metadata": {
        "id": "7IYlKqsw__bb"
      },
      "outputs": [],
      "source": [
        "df_train.replace(to_replace=0, value=np.nan, inplace=True)\n",
        "df_test.replace(to_replace=0, value=np.nan, inplace=True)"
      ]
    },
    {
      "cell_type": "markdown",
      "metadata": {
        "id": "d8bVDXL25ZVP"
      },
      "source": [
        "### Замена индексов"
      ]
    },
    {
      "cell_type": "markdown",
      "metadata": {
        "id": "bPntmGEz64cQ"
      },
      "source": [
        "Все признаки числовые кроме даты. Для удобства работы сделаем столбец даты индексом. Так у нас все столбцы будут числовыми и мы не потеряем дату."
      ]
    },
    {
      "cell_type": "code",
      "execution_count": 10,
      "metadata": {
        "id": "Lls63k9WR-iA"
      },
      "outputs": [],
      "source": [
        "for df in [df_train, df_test, df_full]:\n",
        "    df.set_index('date', inplace=True)"
      ]
    },
    {
      "cell_type": "markdown",
      "metadata": {
        "id": "hNZxSbaLy9-u"
      },
      "source": [
        "### Пропуски"
      ]
    },
    {
      "cell_type": "markdown",
      "metadata": {
        "id": "qCmUDtB6zr73"
      },
      "source": [
        "Так как данные записывались каждый час, то заполним пропуски средним значением от соседних ячеек."
      ]
    },
    {
      "cell_type": "code",
      "source": [
        "df_train = df_train.interpolate(method='linear')\n",
        "df_test = df_test.interpolate(method='linear')\n",
        "df_train.isna().sum().sum(), df_test.isna().sum().sum()"
      ],
      "metadata": {
        "colab": {
          "base_uri": "https://localhost:8080/"
        },
        "id": "Xm4R1i9NNsRt",
        "outputId": "d1d13a5e-c1e0-4de8-f7aa-779825f5bc4e"
      },
      "execution_count": 11,
      "outputs": [
        {
          "output_type": "execute_result",
          "data": {
            "text/plain": [
              "(0, 0)"
            ]
          },
          "metadata": {},
          "execution_count": 11
        }
      ]
    },
    {
      "cell_type": "markdown",
      "metadata": {
        "id": "uVLYQVAODep5"
      },
      "source": [
        "### Подготовка данных для обучения"
      ]
    },
    {
      "cell_type": "markdown",
      "metadata": {
        "id": "HoSGWkTq4p3j"
      },
      "source": [
        "На момент предсказания rougher.output.recovery у нас нет данных с последующих этапов поэтому берем данные только с флотации."
      ]
    },
    {
      "cell_type": "code",
      "execution_count": 12,
      "metadata": {
        "id": "70D7nfrt2G4C"
      },
      "outputs": [],
      "source": [
        "rouger_features = [\n",
        "    'rougher.input.feed_ag',\n",
        "    'rougher.input.feed_au',\n",
        "    'rougher.input.feed_pb',\n",
        "    'rougher.input.feed_rate',\n",
        "    'rougher.input.feed_size',\n",
        "    'rougher.input.feed_sol',\n",
        "    'rougher.input.floatbank10_sulfate',\n",
        "    'rougher.input.floatbank10_xanthate',\n",
        "    'rougher.input.floatbank11_sulfate',\n",
        "    'rougher.input.floatbank11_xanthate',\n",
        "    'rougher.state.floatbank10_a_air',\n",
        "    'rougher.state.floatbank10_a_level',\n",
        "    'rougher.state.floatbank10_b_air',\n",
        "    'rougher.state.floatbank10_b_level',\n",
        "    'rougher.state.floatbank10_c_air',\n",
        "    'rougher.state.floatbank10_c_level',\n",
        "    'rougher.state.floatbank10_d_air',\n",
        "    'rougher.state.floatbank10_d_level',\n",
        "    'rougher.state.floatbank10_e_air',\n",
        "    'rougher.state.floatbank10_e_level',\n",
        "    'rougher.state.floatbank10_f_air',\n",
        "    'rougher.state.floatbank10_f_level'\n",
        "]"
      ]
    },
    {
      "cell_type": "code",
      "execution_count": 13,
      "metadata": {
        "id": "vnZF23PdDwaK"
      },
      "outputs": [],
      "source": [
        "train_rougher = df_train[rouger_features]\n",
        "train_final = df_train[df_test.columns]\n",
        "train_target_rougher = df_full.loc[train_rougher.index, 'rougher.output.recovery']\n",
        "train_target_final = df_full.loc[train_final.index, 'final.output.recovery']\n",
        "test_rogher = df_test[rouger_features]\n",
        "test_final = df_test\n",
        "test_target_rougher = df_full.loc[test_rogher.index, 'rougher.output.recovery']\n",
        "test_target_final = df_full.loc[test_final.index, 'final.output.recovery']"
      ]
    },
    {
      "cell_type": "code",
      "execution_count": 14,
      "metadata": {
        "colab": {
          "base_uri": "https://localhost:8080/"
        },
        "id": "vzhYnCtsMmnb",
        "outputId": "88bab72f-19f9-4da9-ed10-9f7de0535edc"
      },
      "outputs": [
        {
          "output_type": "execute_result",
          "data": {
            "text/plain": [
              "((13725, 22), (13725, 52), (13725,), (13725,))"
            ]
          },
          "metadata": {},
          "execution_count": 14
        }
      ],
      "source": [
        "train_rougher.shape, train_final.shape, train_target_rougher.shape, train_target_final.shape"
      ]
    },
    {
      "cell_type": "code",
      "execution_count": 15,
      "metadata": {
        "colab": {
          "base_uri": "https://localhost:8080/"
        },
        "id": "lMtcs6oxp2Mf",
        "outputId": "8f6579a8-0bcb-43f8-d9f5-e995de4e3731"
      },
      "outputs": [
        {
          "output_type": "execute_result",
          "data": {
            "text/plain": [
              "((5123, 22), (5123, 52), (5123,), (5123,))"
            ]
          },
          "metadata": {},
          "execution_count": 15
        }
      ],
      "source": [
        "test_rogher.shape, test_final.shape, test_target_rougher.shape, test_target_final.shape"
      ]
    },
    {
      "cell_type": "markdown",
      "metadata": {
        "id": "00kM1Iocp2Me"
      },
      "source": [
        "## Анализ данных"
      ]
    },
    {
      "cell_type": "markdown",
      "metadata": {
        "id": "d4KJjGeA6sVs"
      },
      "source": [
        "### Проверка рассчета recovery"
      ]
    },
    {
      "cell_type": "markdown",
      "metadata": {
        "id": "kWQpgMdg6sVt"
      },
      "source": [
        "Проверим правильность рассчета recovery на этапе rougher. Используем формулу\n",
        "\n",
        "![image.png](data:image/png;base64,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)\n",
        "\n",
        "где:\n",
        "* C — доля золота в концентрате после флотации/очистки;\n",
        "* F — доля золота в сырье/концентрате до флотации/очистки;\n",
        "* T — доля золота в отвальных хвостах после флотации/очистки."
      ]
    },
    {
      "cell_type": "code",
      "execution_count": 16,
      "metadata": {
        "colab": {
          "base_uri": "https://localhost:8080/"
        },
        "id": "HCSikjyN6sV0",
        "outputId": "d5556f57-3f27-4f59-df7e-ffabe722ef54"
      },
      "outputs": [
        {
          "output_type": "execute_result",
          "data": {
            "text/plain": [
              "1.1878632391995372e-14"
            ]
          },
          "metadata": {},
          "execution_count": 16
        }
      ],
      "source": [
        "def recovery(row):\n",
        "    c = row['rougher.output.concentrate_au']\n",
        "    f = row['rougher.input.feed_au']\n",
        "    t = row['rougher.output.tail_au']\n",
        "    return 100 * c * (f - t) / (\n",
        "              f * (c - t))\n",
        "\n",
        "recovery_calc = df_full.apply(recovery, axis=1)\n",
        "mae(recovery_calc, df_full['rougher.output.recovery'])"
      ]
    },
    {
      "cell_type": "markdown",
      "metadata": {
        "id": "dR6mPNymEtCO"
      },
      "source": [
        "Рассчет выполнен верно, расхождение возникает из-за округления чисел с плавающей точкой."
      ]
    },
    {
      "cell_type": "markdown",
      "metadata": {
        "id": "S7TrxpeOFVAU"
      },
      "source": [
        "### Анализ разницы признаков в train и test"
      ]
    },
    {
      "cell_type": "code",
      "execution_count": 17,
      "metadata": {
        "colab": {
          "base_uri": "https://localhost:8080/"
        },
        "id": "lyojS8S4p2Me",
        "outputId": "9b6a385f-985a-4fb4-9e38-99f800444c3e",
        "scrolled": true
      },
      "outputs": [
        {
          "output_type": "execute_result",
          "data": {
            "text/plain": [
              "['final.output.concentrate_ag',\n",
              " 'final.output.concentrate_pb',\n",
              " 'final.output.concentrate_sol',\n",
              " 'final.output.concentrate_au',\n",
              " 'final.output.recovery',\n",
              " 'final.output.tail_ag',\n",
              " 'final.output.tail_pb',\n",
              " 'final.output.tail_sol',\n",
              " 'final.output.tail_au',\n",
              " 'primary_cleaner.output.concentrate_ag',\n",
              " 'primary_cleaner.output.concentrate_pb',\n",
              " 'primary_cleaner.output.concentrate_sol',\n",
              " 'primary_cleaner.output.concentrate_au',\n",
              " 'primary_cleaner.output.tail_ag',\n",
              " 'primary_cleaner.output.tail_pb',\n",
              " 'primary_cleaner.output.tail_sol',\n",
              " 'primary_cleaner.output.tail_au',\n",
              " 'rougher.calculation.sulfate_to_au_concentrate',\n",
              " 'rougher.calculation.floatbank10_sulfate_to_au_feed',\n",
              " 'rougher.calculation.floatbank11_sulfate_to_au_feed',\n",
              " 'rougher.calculation.au_pb_ratio',\n",
              " 'rougher.output.concentrate_ag',\n",
              " 'rougher.output.concentrate_pb',\n",
              " 'rougher.output.concentrate_sol',\n",
              " 'rougher.output.concentrate_au',\n",
              " 'rougher.output.recovery',\n",
              " 'rougher.output.tail_ag',\n",
              " 'rougher.output.tail_pb',\n",
              " 'rougher.output.tail_sol',\n",
              " 'rougher.output.tail_au',\n",
              " 'secondary_cleaner.output.tail_ag',\n",
              " 'secondary_cleaner.output.tail_pb',\n",
              " 'secondary_cleaner.output.tail_sol',\n",
              " 'secondary_cleaner.output.tail_au']"
            ]
          },
          "metadata": {},
          "execution_count": 17
        }
      ],
      "source": [
        "[x for x in df_train.columns if x not in df_test.columns]"
      ]
    },
    {
      "cell_type": "markdown",
      "metadata": {
        "id": "qKgppm2ZGsxb"
      },
      "source": [
        "В тестовой выборке нет выходных данных на каждом этапе, а также нет вычисляемых данных на этапе rougher. Так как использование модели подразумевает выполнение предсказаний во время работы, у нас не может быть результатов лабораторных анализов. Рассчеты также не обязательны, так как являются зависимыми признаками."
      ]
    },
    {
      "cell_type": "markdown",
      "metadata": {
        "id": "ReF4lTj-gkq6"
      },
      "source": [
        "### Динамика концентрации металлов (Au, Ag, Pb) на разных этапах очистки"
      ]
    },
    {
      "cell_type": "code",
      "execution_count": 18,
      "metadata": {
        "colab": {
          "base_uri": "https://localhost:8080/",
          "height": 391
        },
        "id": "PTPTZZDcgviv",
        "outputId": "afe18f0c-0397-49d8-97ca-cc9d8bb23422"
      },
      "outputs": [
        {
          "output_type": "display_data",
          "data": {
            "text/plain": [
              "<Figure size 1200x400 with 1 Axes>"
            ],
            "image/png": "[encoded data removed]"
          },
          "metadata": {}
        }
      ],
      "source": [
        "au = df_full[['rougher.input.feed_au','rougher.output.concentrate_au','primary_cleaner.output.concentrate_au','final.output.concentrate_au']].mean()\n",
        "ag = df_full[['rougher.input.feed_ag','rougher.output.concentrate_ag','primary_cleaner.output.concentrate_ag','final.output.concentrate_ag']].mean()\n",
        "pb = df_full[['rougher.input.feed_pb','rougher.output.concentrate_pb','primary_cleaner.output.concentrate_pb','final.output.concentrate_pb']].mean()\n",
        "au.plot(style='-o', grid=True, figsize=(12,4), label='Au')\n",
        "ag.plot(style='-o', grid=True, figsize=(12,4), label='Ag')\n",
        "pb.plot(style='-o', grid=True, figsize=(12,4), label='Pb')\n",
        "\n",
        "plt.title('Динамика концентрации Ag, Pb, Au на разных этапах очистки')\n",
        "plt.xticks([0, 1, 2, 3], ['Руда', 'Флотация', 'Первичная очистка', 'Вторичная очистка'])\n",
        "plt.legend()\n",
        "plt.show()"
      ]
    },
    {
      "cell_type": "markdown",
      "metadata": {
        "id": "In386G6C3eKT"
      },
      "source": [
        "Наблюдается уверенный рост концентрации золота, снижение концентрации серебра, а также небольшое увеличение концентрации свинца."
      ]
    },
    {
      "cell_type": "markdown",
      "metadata": {
        "id": "09lmpo-tkjSq"
      },
      "source": [
        "### Распределение размеров гранул сырья на тестовой и обучающей выборках"
      ]
    },
    {
      "cell_type": "code",
      "execution_count": 19,
      "metadata": {
        "colab": {
          "base_uri": "https://localhost:8080/",
          "height": 391
        },
        "id": "Xg4GrgLflgs6",
        "outputId": "3fb1d993-40c6-49a5-eb47-76c022eb4b25"
      },
      "outputs": [
        {
          "output_type": "display_data",
          "data": {
            "text/plain": [
              "<Figure size 600x400 with 1 Axes>"
            ],
            "image/png": "[encoded data removed]"
          },
          "metadata": {}
        }
      ],
      "source": [
        "def show_kde(column, bins, range):\n",
        "    test = df_train[column]\n",
        "    train = df_test[column]\n",
        "    test.plot(kind='kde', alpha=.5, label='test', color='green', figsize=(6, 4))\n",
        "    plt.axvline(test.mean(), color ='green')\n",
        "    train.plot(kind='kde', alpha=.5, label='train', color='red')\n",
        "    plt.axvline(train.mean(), color ='red')\n",
        "    plt.legend(loc='upper right')\n",
        "    plt.xlim(range)\n",
        "    plt.title('Плотность распределения рамеров гранул сырья')\n",
        "    plt.show()\n",
        "\n",
        "\n",
        "show_kde('rougher.input.feed_size', 200, (10, 140))"
      ]
    },
    {
      "cell_type": "code",
      "execution_count": 20,
      "metadata": {
        "colab": {
          "base_uri": "https://localhost:8080/",
          "height": 391
        },
        "id": "Xx_P8wuinoD6",
        "outputId": "2475baca-1782-4dc8-bf8f-f7c5b2beda15",
        "scrolled": true
      },
      "outputs": [
        {
          "output_type": "display_data",
          "data": {
            "text/plain": [
              "<Figure size 600x400 with 1 Axes>"
            ],
            "image/png": "[encoded data removed]"
          },
          "metadata": {}
        }
      ],
      "source": [
        "show_kde('primary_cleaner.input.feed_size', 100, (4, 11))"
      ]
    },
    {
      "cell_type": "markdown",
      "metadata": {
        "id": "Stcvt3pjrpM9"
      },
      "source": [
        "Исходное сырье имеют похожие распределения на тренировочной и тестовой выборках, с близкими средними, а после флотации распределения становятся почти равными, а значит тестовая выборка подходит для проверки."
      ]
    },
    {
      "cell_type": "markdown",
      "metadata": {
        "id": "peim-OICs5y5"
      },
      "source": [
        "### Суммарна концентрация на разных этапах"
      ]
    },
    {
      "cell_type": "code",
      "execution_count": 21,
      "metadata": {
        "colab": {
          "base_uri": "https://localhost:8080/",
          "height": 468
        },
        "id": "5_-la-xQBrHC",
        "outputId": "80a4fc03-9c66-4975-a413-cf09259c135f"
      },
      "outputs": [
        {
          "output_type": "display_data",
          "data": {
            "text/plain": [
              "<Figure size 1500x500 with 1 Axes>"
            ],
            "image/png": "[encoded data removed]"
          },
          "metadata": {}
        }
      ],
      "source": [
        "ore = df_full[[\n",
        "    'rougher.input.feed_ag',\n",
        "    'rougher.input.feed_au',\n",
        "    'rougher.input.feed_pb']].sum(axis=1)\n",
        "\n",
        "rougher_out = df_full[[\n",
        "    'rougher.output.concentrate_ag',\n",
        "    'rougher.output.concentrate_au',\n",
        "    'rougher.output.concentrate_pb']].sum(axis=1)\n",
        "\n",
        "primary_out = df_full[[\n",
        "    'primary_cleaner.output.concentrate_ag',\n",
        "    'primary_cleaner.output.concentrate_au',\n",
        "    'primary_cleaner.output.concentrate_pb']].sum(axis=1)\n",
        "\n",
        "final = df_full[[\n",
        "    'final.output.concentrate_ag',\n",
        "    'final.output.concentrate_au',\n",
        "    'final.output.concentrate_pb']].sum(axis=1)\n",
        "\n",
        "ore.hist(bins=100, alpha=.5, label='Руда', color='red')\n",
        "rougher_out.hist(bins=100, alpha=.5, label='Флотация', color='orange')\n",
        "primary_out.hist(bins=100, alpha=.5, label='Первичная очистка', color='blue')\n",
        "final.hist(bins=100, alpha=.5, label='Вторичная очистка', color='green', figsize=(15, 5))\n",
        "plt.axvline(ore.mean(), color ='red')\n",
        "plt.axvline(rougher_out.mean(), color ='orange')\n",
        "plt.axvline(primary_out.mean(), color ='blue')\n",
        "plt.axvline(final.mean(), color ='green')\n",
        "plt.legend(loc='upper left')\n",
        "plt.title('Концентрации металлов на различных этапах очистки')\n",
        "plt.show()"
      ]
    },
    {
      "cell_type": "markdown",
      "metadata": {
        "id": "yTkPRt3X-vt5"
      },
      "source": [
        "Наблюдается заметное увеличение концентрации и уменьшение ширины распределения на каждом этапе очистки.  \n",
        "Пик около нуля наблюдается пик. Так как нули удалены, то посмотрим, что это за значения."
      ]
    },
    {
      "cell_type": "code",
      "execution_count": 22,
      "metadata": {
        "colab": {
          "base_uri": "https://localhost:8080/"
        },
        "id": "aIHdn_XtI3Kj",
        "outputId": "d12faf87-63c1-4e1c-d471-53fda453b300"
      },
      "outputs": [
        {
          "output_type": "execute_result",
          "data": {
            "text/plain": [
              "date\n",
              "2018-06-29 00:59:59    0.03\n",
              "2018-08-10 07:59:59    0.03\n",
              "2018-06-29 14:59:59    0.03\n",
              "2018-05-03 17:59:59    0.03\n",
              "2018-08-09 08:59:59    0.03\n",
              "dtype: float64"
            ]
          },
          "metadata": {},
          "execution_count": 22
        }
      ],
      "source": [
        "primary_out[primary_out < 1].sample(5)"
      ]
    },
    {
      "cell_type": "markdown",
      "metadata": {
        "id": "36Ycx1_mI3Kk"
      },
      "source": [
        "Значения концентраций не нулевые, но крайне низкие, что не может соответствовать реальным данным. Посмотрим концентрации для этих записей на других этапах."
      ]
    },
    {
      "cell_type": "code",
      "execution_count": 23,
      "metadata": {
        "colab": {
          "base_uri": "https://localhost:8080/",
          "height": 391
        },
        "id": "-BFhwnWSI3Kk",
        "outputId": "d523c214-ab18-406a-c7f2-de4d476c121e"
      },
      "outputs": [
        {
          "output_type": "display_data",
          "data": {
            "text/plain": [
              "<Figure size 1000x400 with 1 Axes>"
            ],
            "image/png": "[encoded data removed]"
          },
          "metadata": {}
        }
      ],
      "source": [
        "rows = primary_out < 1\n",
        "ore[rows].hist(bins=50, alpha=.5, label='Руда', color='red')\n",
        "rougher_out[rows].hist(bins=50, alpha=.5, label='Флотация', color='orange')\n",
        "primary_out[rows].hist(bins=50, alpha=.5, label='Первичная очистка', color='blue')\n",
        "ax = final[rows].hist(bins=50, alpha=.5, label='Вторичная очистка', color='green', figsize=(10, 4))\n",
        "ax.set_ylim([0, 40])\n",
        "plt.axvline(ore[rows].mean(), color ='red')\n",
        "plt.axvline(rougher_out[rows].mean(), color ='orange')\n",
        "plt.axvline(primary_out[rows].mean(), color ='blue')\n",
        "plt.axvline(final[rows].mean(), color ='green')\n",
        "plt.legend(loc='upper left')\n",
        "plt.title('Концентрации металлов на различных этапах очистки')\n",
        "plt.show()"
      ]
    },
    {
      "cell_type": "markdown",
      "metadata": {
        "id": "o0oeD-iQI3Kk"
      },
      "source": [
        "Концентрация в руде немного ниже, но все равно сильно выше нуля, остальные концентрации в норме, что говорит об ошибке в записях для первичной очистки. Так как записи концентрации после первичной очистки не используются для обучения моделей и расчета рекавери, то можно их оставить."
      ]
    },
    {
      "cell_type": "markdown",
      "metadata": {
        "id": "7B3doJYRp2Mf"
      },
      "source": [
        "## Модель"
      ]
    },
    {
      "cell_type": "markdown",
      "source": [
        "### sMAPE scorer"
      ],
      "metadata": {
        "id": "wHHNo8U0YypJ"
      }
    },
    {
      "cell_type": "markdown",
      "source": [
        "Для оценки будем использовать sMAPE. Сделаем scorer."
      ],
      "metadata": {
        "id": "yag_rdNgWy3p"
      }
    },
    {
      "cell_type": "markdown",
      "metadata": {
        "id": "kt2GmRmmKMRP"
      },
      "source": [
        "![image.png](data:image/png;base64,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)"
      ]
    },
    {
      "cell_type": "code",
      "execution_count": 24,
      "metadata": {
        "id": "8bxE_fYByuEG"
      },
      "outputs": [],
      "source": [
        "def sMAPE(target, predict):\n",
        "    return (abs(target - predict) / ((abs(target) + abs(predict)) / 2)).mean() * 100\n",
        "\n",
        "def final_sMAPE(smape_rougher, smape_final):\n",
        "    return .25 * smape_rougher + .75 * smape_final"
      ]
    },
    {
      "cell_type": "code",
      "execution_count": 25,
      "metadata": {
        "id": "ygf8xV0NNQVL"
      },
      "outputs": [],
      "source": [
        "scorer = make_scorer(sMAPE, greater_is_better=False)"
      ]
    },
    {
      "cell_type": "markdown",
      "source": [
        "### Перебор гиперпараметров моделей"
      ],
      "metadata": {
        "id": "t4Haf3jsY8Rg"
      }
    },
    {
      "cell_type": "code",
      "execution_count": 26,
      "metadata": {
        "id": "YQ2Wd2g1Nn2A"
      },
      "outputs": [],
      "source": [
        "model_ridge = make_pipeline(MinMaxScaler(), Ridge())\n",
        "model_en = make_pipeline(MinMaxScaler(), ElasticNet())\n",
        "model_svr = make_pipeline(MinMaxScaler(), SVR())\n",
        "\n",
        "params_svr = {\n",
        "    'svr__C': [.1, .2],\n",
        "    'svr__kernel': ['linear'],\n",
        "    'svr__gamma': [.1, 10],\n",
        "    'svr__degree': [1, 2],\n",
        "    'svr__epsilon': [.5, 1]\n",
        "}\n",
        "\n",
        "params_ridge = {\n",
        "    'ridge__alpha': range(0, 500, 20),\n",
        "    'ridge__max_iter': [1000],\n",
        "    'ridge__tol': [.0001]\n",
        "}\n",
        "\n",
        "params_en = {\n",
        "    'elasticnet__alpha': [.01, .1, 1],\n",
        "    'elasticnet__l1_ratio': [.5, .95],\n",
        "}"
      ]
    },
    {
      "cell_type": "code",
      "execution_count": 27,
      "metadata": {
        "id": "KYQ-UgEK7Jhg"
      },
      "outputs": [],
      "source": [
        "def train_model(name, model, param, train, train_target, test, test_target):\n",
        "    print('\\n', name, '\\n')\n",
        "    grid_cv = GridSearchCV(model, param_grid=param, cv=5, scoring=scorer)\n",
        "    grid_cv.fit(train, train_target)\n",
        "    print(f'sMAPE {abs(grid_cv.best_score_):.3f}')\n",
        "    print('Лучшие параметры', grid_cv.best_params_)\n",
        "    test_predict = grid_cv.predict(test)\n",
        "    test_sMAPE = sMAPE(test_target, test_predict)\n",
        "    print(f'sMAPE на тестовой выборке {test_sMAPE:.3f}\\n')\n",
        "    return grid_cv, test_sMAPE\n"
      ]
    },
    {
      "cell_type": "code",
      "execution_count": 28,
      "metadata": {
        "colab": {
          "base_uri": "https://localhost:8080/"
        },
        "id": "nQ4OBxKL6TPT",
        "outputId": "a65f0584-1ffd-481d-c8e9-a0beb59ab4e0",
        "scrolled": true
      },
      "outputs": [
        {
          "output_type": "stream",
          "name": "stdout",
          "text": [
            "\n",
            " ElasticNet rougher \n",
            "\n",
            "sMAPE 6.181\n",
            "Лучшие параметры {'elasticnet__alpha': 0.01, 'elasticnet__l1_ratio': 0.5}\n",
            "sMAPE на тестовой выборке 4.345\n",
            "\n",
            "\n",
            " Ridge rougher \n",
            "\n",
            "sMAPE 6.144\n",
            "Лучшие параметры {'ridge__alpha': 120, 'ridge__max_iter': 1000, 'ridge__tol': 0.0001}\n",
            "sMAPE на тестовой выборке 4.324\n",
            "\n",
            "\n",
            " SVR rougher \n",
            "\n",
            "sMAPE 6.244\n",
            "Лучшие параметры {'svr__C': 0.2, 'svr__degree': 1, 'svr__epsilon': 1, 'svr__gamma': 0.1, 'svr__kernel': 'linear'}\n",
            "sMAPE на тестовой выборке 4.156\n",
            "\n",
            "\n",
            " ElasticNet final \n",
            "\n",
            "sMAPE 9.259\n",
            "Лучшие параметры {'elasticnet__alpha': 0.1, 'elasticnet__l1_ratio': 0.95}\n",
            "sMAPE на тестовой выборке 7.096\n",
            "\n",
            "\n",
            " Ridge final \n",
            "\n",
            "sMAPE 9.428\n",
            "Лучшие параметры {'ridge__alpha': 300, 'ridge__max_iter': 1000, 'ridge__tol': 0.0001}\n",
            "sMAPE на тестовой выборке 7.292\n",
            "\n",
            "\n",
            " SVR final \n",
            "\n",
            "sMAPE 9.388\n",
            "Лучшие параметры {'svr__C': 0.1, 'svr__degree': 1, 'svr__epsilon': 1, 'svr__gamma': 0.1, 'svr__kernel': 'linear'}\n",
            "sMAPE на тестовой выборке 7.376\n",
            "\n",
            "CPU times: user 18min 10s, sys: 31.1 s, total: 18min 41s\n",
            "Wall time: 18min 53s\n"
          ]
        }
      ],
      "source": [
        "%%time\n",
        "grid_rougher_en, rougher_en_sMAPE = train_model(\"ElasticNet rougher\", model_en, params_en, train_rougher, train_target_rougher, test_rogher, test_target_rougher)\n",
        "grid_rougher_ridge, rougher_ridge_sMAPE = train_model(\"Ridge rougher\", model_ridge, params_ridge, train_rougher, train_target_rougher, test_rogher, test_target_rougher)\n",
        "grid_rougher_svr, rougher_svr_sMAPE = train_model(\"SVR rougher\", model_svr, params_svr, train_rougher, train_target_rougher, test_rogher, test_target_rougher)\n",
        "\n",
        "grid_final_en, final_en_sMAPE = train_model(\"ElasticNet final\", model_en, params_en, train_final, train_target_final, test_final, test_target_final)\n",
        "grid_final_ridge, final_ridge_sMAPE = train_model(\"Ridge final\", model_ridge, params_ridge, train_final, train_target_final, test_final, test_target_final)\n",
        "grid_final_svr, final_svr_sMAPE = train_model(\"SVR final\", model_svr, params_svr, train_final, train_target_final, test_final, test_target_final)"
      ]
    },
    {
      "cell_type": "markdown",
      "metadata": {
        "id": "xx6eeTZQzjNn"
      },
      "source": [
        "Для оценки рекавери после флотации лучше всего себя показала SVR модель с sMAPE на тестовой выборке 4.156  \n",
        "Параметры SVR  C: 0.2, degree: 1, epsilon: 1, gamma: 0.1, kernel: 'linear'  \n",
        "\n",
        "Для общей рекавери лучшие показетели у ElasticNet с sMAPE на тестовой выборке 7.1   \n",
        "Параметры ElasticNet alpha: 0.1, l1_ratio: 0.95\n",
        "\n",
        "Посчитаем итоговый sMAPE"
      ]
    },
    {
      "cell_type": "code",
      "execution_count": 29,
      "metadata": {
        "colab": {
          "base_uri": "https://localhost:8080/"
        },
        "id": "PDCagb0NhS40",
        "outputId": "3c34d51c-a855-4bda-a943-912145e40787"
      },
      "outputs": [
        {
          "output_type": "execute_result",
          "data": {
            "text/plain": [
              "6.361134515628257"
            ]
          },
          "metadata": {},
          "execution_count": 29
        }
      ],
      "source": [
        "final_sMAPE(rougher_svr_sMAPE, final_en_sMAPE)"
      ]
    },
    {
      "cell_type": "markdown",
      "metadata": {
        "id": "9Bs6b-RZBGKg"
      },
      "source": [
        "### Проверка"
      ]
    },
    {
      "cell_type": "markdown",
      "metadata": {
        "id": "Wf8C3EAe0_ra"
      },
      "source": [
        "Сравним результат с константной моделью"
      ]
    },
    {
      "cell_type": "code",
      "execution_count": 30,
      "metadata": {
        "colab": {
          "base_uri": "https://localhost:8080/"
        },
        "id": "nxParFH2BLRB",
        "outputId": "bff2ddad-58d5-415b-8314-d360a2eda857"
      },
      "outputs": [
        {
          "output_type": "stream",
          "name": "stdout",
          "text": [
            "sMAPE флотации 4.809\n",
            " sMAPE очистки 8.223\n",
            "итоговая sMAPE 7.369\n"
          ]
        }
      ],
      "source": [
        "dummy_rougher = DummyRegressor(strategy='median')\n",
        "dummy_final = DummyRegressor(strategy='median')\n",
        "dummy_rougher.fit(train_rougher, train_target_rougher)\n",
        "dummy_final.fit(train_final, train_target_final)\n",
        "rougher = dummy_rougher.predict(test_rogher)\n",
        "final = dummy_final.predict(test_final)\n",
        "\n",
        "print(f'sMAPE флотации {sMAPE(test_target_rougher, rougher):.3f}\\n',\n",
        "      f'sMAPE очистки {sMAPE(test_target_final, final):.3f}')\n",
        "final_smape = final_sMAPE(sMAPE(test_target_rougher, rougher), sMAPE(test_target_final, final))\n",
        "print(f'итоговая sMAPE {final_smape:.3f}')"
      ]
    },
    {
      "cell_type": "markdown",
      "metadata": {
        "id": "n1JAMKDv1IN8"
      },
      "source": [
        "Результат хуже чем у полученой модели."
      ]
    },
    {
      "cell_type": "markdown",
      "metadata": {
        "id": "nlPJdtKy1XfB"
      },
      "source": [
        "## Вывод"
      ]
    },
    {
      "cell_type": "markdown",
      "metadata": {
        "id": "2zETIYpL1c4o"
      },
      "source": [
        "Сделана проверка рассчета рекавери после флотации. Расходление в пределах погрешности float переменных, рассчет верен.\n",
        "\n",
        "Исследована средняя концентрация металлов на раэличных этапах очистки.  \n",
        "Наблюдается уверенный рост концентрации золота, снижение концентрации серебра, а также небольшое увеличение концентрации свинца.\n",
        "\n",
        "Исследовано распределение размеров гранул сырья в обучающей и тестовой выборках.  \n",
        "Распределение для руды близкое, после флотации распределения становятся почти идентичными.\n",
        "\n",
        "Исследованы распределения суммарной концентрации металлов.  \n",
        "Наблюдается заметное увеличение концентрации и уменьшение ширины распределения на каждом этапе очистки.\n",
        "\n",
        "Получены модели для предсказания значения рекавери со следующими параметрами:  \n",
        "Рекавери после флотации модель Epsilon-Support Vector Regression с sMAPE на тестовой выборке 4.156  \n",
        "Параметры SVR  C: 0.2, degree: 1, epsilon: 1, gamma: 0.1, kernel: 'linear'  \n",
        "Общяя рекавери модель ElasticNet с sMAPE на тестовой выборке 7.1  \n",
        "Параметры ElasticNet alpha: 0.1, l1_ratio: 0.95  \n",
        "Итоговый sMAPE 6.36\n",
        "\n"
      ]
    }
  ],
  "metadata": {
    "ExecuteTimeLog": [
      {
        "duration": 1411,
        "start_time": "2023-03-30T18:11:01.869Z"
      },
      {
        "duration": 2040,
        "start_time": "2023-03-30T18:11:03.282Z"
      },
      {
        "duration": 204,
        "start_time": "2023-03-30T18:11:05.323Z"
      },
      {
        "duration": 8,
        "start_time": "2023-03-30T18:11:13.401Z"
      },
      {
        "duration": 4,
        "start_time": "2023-03-30T18:12:53.896Z"
      },
      {
        "duration": 8,
        "start_time": "2023-03-30T18:13:35.335Z"
      },
      {
        "duration": 6,
        "start_time": "2023-03-30T18:13:50.934Z"
      },
      {
        "duration": 4,
        "start_time": "2023-03-30T18:14:57.733Z"
      },
      {
        "duration": 6,
        "start_time": "2023-03-30T18:16:30.711Z"
      },
      {
        "duration": 22,
        "start_time": "2023-03-30T18:17:20.741Z"
      },
      {
        "duration": 1438,
        "start_time": "2023-03-30T18:17:41.656Z"
      },
      {
        "duration": 693,
        "start_time": "2023-03-30T18:17:43.096Z"
      },
      {
        "duration": 206,
        "start_time": "2023-03-30T18:17:43.791Z"
      },
      {
        "duration": 7,
        "start_time": "2023-03-30T18:17:43.998Z"
      },
      {
        "duration": 5,
        "start_time": "2023-03-30T18:17:44.007Z"
      },
      {
        "duration": 5,
        "start_time": "2023-03-30T18:17:44.014Z"
      },
      {
        "duration": 57,
        "start_time": "2023-03-30T18:17:44.021Z"
      },
      {
        "duration": 7,
        "start_time": "2023-03-30T18:17:44.080Z"
      },
      {
        "duration": 7,
        "start_time": "2023-03-30T18:17:44.088Z"
      },
      {
        "duration": 11686,
        "start_time": "2023-03-30T18:17:44.096Z"
      },
      {
        "duration": 3,
        "start_time": "2023-03-30T18:17:55.785Z"
      },
      {
        "duration": 19,
        "start_time": "2023-03-30T18:17:55.790Z"
      },
      {
        "duration": 3,
        "start_time": "2023-03-30T18:17:55.810Z"
      },
      {
        "duration": 4,
        "start_time": "2023-03-30T18:17:55.815Z"
      },
      {
        "duration": 223,
        "start_time": "2023-03-30T18:17:55.820Z"
      },
      {
        "duration": 4,
        "start_time": "2023-03-30T18:17:56.045Z"
      },
      {
        "duration": 181,
        "start_time": "2023-03-30T18:17:56.050Z"
      },
      {
        "duration": 779,
        "start_time": "2023-03-30T18:17:56.232Z"
      },
      {
        "duration": 707,
        "start_time": "2023-03-30T18:17:57.014Z"
      },
      {
        "duration": 812,
        "start_time": "2023-03-30T18:17:57.722Z"
      },
      {
        "duration": 2,
        "start_time": "2023-03-30T18:17:58.536Z"
      },
      {
        "duration": 3,
        "start_time": "2023-03-30T18:17:58.540Z"
      },
      {
        "duration": 6,
        "start_time": "2023-03-30T18:17:58.545Z"
      },
      {
        "duration": 4,
        "start_time": "2023-03-30T18:17:58.553Z"
      },
      {
        "duration": 361476,
        "start_time": "2023-03-30T18:17:58.558Z"
      },
      {
        "duration": 9,
        "start_time": "2023-03-30T18:24:00.035Z"
      },
      {
        "duration": 0,
        "start_time": "2023-03-30T18:24:00.046Z"
      },
      {
        "duration": 1247,
        "start_time": "2023-03-30T18:24:33.676Z"
      },
      {
        "duration": 678,
        "start_time": "2023-03-30T18:24:34.925Z"
      },
      {
        "duration": 196,
        "start_time": "2023-03-30T18:24:35.605Z"
      },
      {
        "duration": 8,
        "start_time": "2023-03-30T18:24:35.803Z"
      },
      {
        "duration": 21,
        "start_time": "2023-03-30T18:24:35.812Z"
      },
      {
        "duration": 12,
        "start_time": "2023-03-30T18:24:42.079Z"
      },
      {
        "duration": 6,
        "start_time": "2023-03-30T18:24:53.538Z"
      },
      {
        "duration": 25,
        "start_time": "2023-03-30T18:25:17.973Z"
      },
      {
        "duration": 12,
        "start_time": "2023-03-30T18:25:25.974Z"
      },
      {
        "duration": 21,
        "start_time": "2023-03-30T18:25:41.244Z"
      },
      {
        "duration": 775,
        "start_time": "2023-03-30T18:25:54.319Z"
      },
      {
        "duration": 5,
        "start_time": "2023-03-30T18:26:31.426Z"
      },
      {
        "duration": 6,
        "start_time": "2023-03-30T18:26:43.860Z"
      },
      {
        "duration": 4,
        "start_time": "2023-03-30T18:27:32.347Z"
      },
      {
        "duration": 6,
        "start_time": "2023-03-30T18:27:43.539Z"
      },
      {
        "duration": 6,
        "start_time": "2023-03-30T18:27:55.882Z"
      },
      {
        "duration": 6,
        "start_time": "2023-03-30T18:28:04.708Z"
      },
      {
        "duration": 7,
        "start_time": "2023-03-30T18:28:13.989Z"
      },
      {
        "duration": 5,
        "start_time": "2023-03-30T18:30:14.739Z"
      },
      {
        "duration": 6,
        "start_time": "2023-03-30T18:32:58.156Z"
      },
      {
        "duration": 7,
        "start_time": "2023-03-30T18:33:30.457Z"
      },
      {
        "duration": 6,
        "start_time": "2023-03-30T18:33:50.608Z"
      },
      {
        "duration": 6,
        "start_time": "2023-03-30T18:33:53.615Z"
      },
      {
        "duration": 102,
        "start_time": "2023-03-30T18:35:48.515Z"
      },
      {
        "duration": 9,
        "start_time": "2023-03-30T18:35:58.651Z"
      },
      {
        "duration": 10,
        "start_time": "2023-03-30T18:36:08.275Z"
      },
      {
        "duration": 11,
        "start_time": "2023-03-30T18:36:16.526Z"
      },
      {
        "duration": 6,
        "start_time": "2023-03-30T18:36:22.419Z"
      },
      {
        "duration": 10,
        "start_time": "2023-03-30T18:36:56.119Z"
      },
      {
        "duration": 10,
        "start_time": "2023-03-30T18:37:56.286Z"
      },
      {
        "duration": 1298,
        "start_time": "2023-03-30T18:40:40.875Z"
      },
      {
        "duration": 739,
        "start_time": "2023-03-30T18:40:42.175Z"
      },
      {
        "duration": 189,
        "start_time": "2023-03-30T18:40:42.915Z"
      },
      {
        "duration": 7,
        "start_time": "2023-03-30T18:40:43.105Z"
      },
      {
        "duration": 5,
        "start_time": "2023-03-30T18:40:43.114Z"
      },
      {
        "duration": 4,
        "start_time": "2023-03-30T18:40:43.120Z"
      },
      {
        "duration": 47,
        "start_time": "2023-03-30T18:40:43.126Z"
      },
      {
        "duration": 7,
        "start_time": "2023-03-30T18:40:43.174Z"
      },
      {
        "duration": 6,
        "start_time": "2023-03-30T18:40:43.182Z"
      },
      {
        "duration": 11390,
        "start_time": "2023-03-30T18:40:43.191Z"
      },
      {
        "duration": 3,
        "start_time": "2023-03-30T18:40:54.582Z"
      },
      {
        "duration": 20,
        "start_time": "2023-03-30T18:40:54.586Z"
      },
      {
        "duration": 4,
        "start_time": "2023-03-30T18:40:54.608Z"
      },
      {
        "duration": 4,
        "start_time": "2023-03-30T18:40:54.613Z"
      },
      {
        "duration": 216,
        "start_time": "2023-03-30T18:40:54.619Z"
      },
      {
        "duration": 4,
        "start_time": "2023-03-30T18:40:54.836Z"
      },
      {
        "duration": 176,
        "start_time": "2023-03-30T18:40:54.841Z"
      },
      {
        "duration": 689,
        "start_time": "2023-03-30T18:40:55.018Z"
      },
      {
        "duration": 700,
        "start_time": "2023-03-30T18:40:55.709Z"
      },
      {
        "duration": 785,
        "start_time": "2023-03-30T18:40:56.410Z"
      },
      {
        "duration": 6,
        "start_time": "2023-03-30T18:40:57.197Z"
      },
      {
        "duration": 12,
        "start_time": "2023-03-30T18:40:57.204Z"
      },
      {
        "duration": 3,
        "start_time": "2023-03-30T18:40:57.217Z"
      },
      {
        "duration": 5,
        "start_time": "2023-03-30T18:40:57.221Z"
      },
      {
        "duration": 7,
        "start_time": "2023-03-30T18:40:57.227Z"
      },
      {
        "duration": 4,
        "start_time": "2023-03-30T18:40:57.235Z"
      },
      {
        "duration": 875878,
        "start_time": "2023-03-30T18:40:57.240Z"
      },
      {
        "duration": 4,
        "start_time": "2023-03-30T18:55:33.120Z"
      },
      {
        "duration": 14,
        "start_time": "2023-03-30T18:55:33.125Z"
      }
    ],
    "colab": {
      "provenance": []
    },
    "kernelspec": {
      "display_name": "Python 3 (ipykernel)",
      "language": "python",
      "name": "python3"
    },
    "language_info": {
      "codemirror_mode": {
        "name": "ipython",
        "version": 3
      },
      "file_extension": ".py",
      "mimetype": "text/x-python",
      "name": "python",
      "nbconvert_exporter": "python",
      "pygments_lexer": "ipython3",
      "version": "3.9.5"
    },
    "toc": {
      "base_numbering": 1,
      "nav_menu": {},
      "number_sections": true,
      "sideBar": true,
      "skip_h1_title": true,
      "title_cell": "Содержание",
      "title_sidebar": "Contents",
      "toc_cell": true,
      "toc_position": {},
      "toc_section_display": true,
      "toc_window_display": true
    }
  },
  "nbformat": 4,
  "nbformat_minor": 0
}